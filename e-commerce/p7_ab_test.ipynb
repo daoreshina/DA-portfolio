{
 "cells": [
  {
   "cell_type": "markdown",
   "id": "a6654d31",
   "metadata": {},
   "source": [
    "# Анализ изменения конверсии посетителей интернет магазина (анализ А/В теста)"
   ]
  },
  {
   "cell_type": "markdown",
   "id": "76b78956",
   "metadata": {},
   "source": [
    "## Аннотация\n",
    "\n",
    "В данном проекте анализуруются результаты А/В теста посетителей интернет магазина. Тест проводился в августе 2019 года.\n",
    "\n",
    "Проект состоит из подготовительной и двух основных частей.\n",
    "\n",
    "1. В подготовительной части представлен обзор имеющихся данных, проведена предобработка, массивы проверены на корректность разбиения по группам.\n",
    "<p>\n",
    "</p>\n",
    "\n",
    "2. В первой части рассматриваются и приоритизируются гипотезы посредством фреймворков ICE и RICE. Сравниваются результаты по двум алгоритмам приоритизации.\n",
    "<p>\n",
    "</p>\n",
    "3. Во второй части анализируются непосредственно данные А/В теста. \n",
    "<p>3.1 Сначала проводится анализ куммулятивных метрик посредством визуализации данных (графики куммулятивных метрик).</p>\n",
    "<p>3.2 На втором этапе данные рассматриваются на предмет аномальных значений. Посредством расчета перцентиллей вычисляются пороговые значения для нормального среднего чека и нормального количества заказов на посетителя магазина.</p>\n",
    "<p>3.3 На третьем шаге проводится статистический тест для сравнения среднего чека и среднего количества заказов в двух группах. Тесты проводятся как на сырых данных, так и после исключения аномальных значений (посетителей с аномальным количеством заказов и со сверх-дорогими заказами).</p>\n",
    "<p>Статистический тест делается 2 раза: до удаления пересекающихся в двух группах посетителей и после удаления таковых.</p>\n",
    "<p>\n",
    "</p>\n",
    "4. В заключении делаются выводы о результатах теста в целом.\n",
    "\n"
   ]
  },
  {
   "cell_type": "markdown",
   "id": "d5a1be7a",
   "metadata": {},
   "source": [
    "# Подготовка к работе. Предобработка данных"
   ]
  },
  {
   "cell_type": "code",
   "execution_count": 1,
   "id": "d58a71f9",
   "metadata": {},
   "outputs": [],
   "source": [
    "#загружаем библиотеки\n",
    "import pandas as pd\n",
    "import os\n",
    "import numpy as np\n",
    "import scipy\n",
    "from scipy import stats \n",
    "import math as mth\n",
    "import matplotlib.pyplot as plt"
   ]
  },
  {
   "cell_type": "code",
   "execution_count": 5,
   "id": "368bd16c",
   "metadata": {},
   "outputs": [],
   "source": [
    "#загружаем данные\n",
    "hypothesis = pd.read_csv('/Users/daria.oreshina/Documents/Практикум/project_7/hypothesis.csv')\n",
    "orders = pd.read_csv('/Users/daria.oreshina/Documents/Практикум/project_7/orders.csv')\n",
    "visitors = pd.read_csv('/Users/daria.oreshina/Documents/Практикум/project_7/visitors.csv')"
   ]
  },
  {
   "cell_type": "markdown",
   "id": "59fce1c0",
   "metadata": {},
   "source": [
    "## Предобработка данных"
   ]
  },
  {
   "cell_type": "code",
   "execution_count": 6,
   "id": "7787524a",
   "metadata": {},
   "outputs": [
    {
     "data": {
      "text/html": [
       "<div>\n",
       "<style scoped>\n",
       "    .dataframe tbody tr th:only-of-type {\n",
       "        vertical-align: middle;\n",
       "    }\n",
       "\n",
       "    .dataframe tbody tr th {\n",
       "        vertical-align: top;\n",
       "    }\n",
       "\n",
       "    .dataframe thead th {\n",
       "        text-align: right;\n",
       "    }\n",
       "</style>\n",
       "<table border=\"1\" class=\"dataframe\">\n",
       "  <thead>\n",
       "    <tr style=\"text-align: right;\">\n",
       "      <th></th>\n",
       "      <th>Hypothesis</th>\n",
       "      <th>Reach</th>\n",
       "      <th>Impact</th>\n",
       "      <th>Confidence</th>\n",
       "      <th>Efforts</th>\n",
       "    </tr>\n",
       "  </thead>\n",
       "  <tbody>\n",
       "    <tr>\n",
       "      <th>0</th>\n",
       "      <td>Добавить два новых канала привлечения трафика, что позволит привлекать на 30% больше пользователей</td>\n",
       "      <td>3</td>\n",
       "      <td>10</td>\n",
       "      <td>8</td>\n",
       "      <td>6</td>\n",
       "    </tr>\n",
       "    <tr>\n",
       "      <th>1</th>\n",
       "      <td>Запустить собственную службу доставки, что сократит срок доставки заказов</td>\n",
       "      <td>2</td>\n",
       "      <td>5</td>\n",
       "      <td>4</td>\n",
       "      <td>10</td>\n",
       "    </tr>\n",
       "    <tr>\n",
       "      <th>2</th>\n",
       "      <td>Добавить блоки рекомендаций товаров на сайт интернет магазина, чтобы повысить конверсию и средний чек заказа</td>\n",
       "      <td>8</td>\n",
       "      <td>3</td>\n",
       "      <td>7</td>\n",
       "      <td>3</td>\n",
       "    </tr>\n",
       "    <tr>\n",
       "      <th>3</th>\n",
       "      <td>Изменить структура категорий, что увеличит конверсию, т.к. пользователи быстрее найдут нужный товар</td>\n",
       "      <td>8</td>\n",
       "      <td>3</td>\n",
       "      <td>3</td>\n",
       "      <td>8</td>\n",
       "    </tr>\n",
       "    <tr>\n",
       "      <th>4</th>\n",
       "      <td>Изменить цвет фона главной страницы, чтобы увеличить вовлеченность пользователей</td>\n",
       "      <td>3</td>\n",
       "      <td>1</td>\n",
       "      <td>1</td>\n",
       "      <td>1</td>\n",
       "    </tr>\n",
       "    <tr>\n",
       "      <th>5</th>\n",
       "      <td>Добавить страницу отзывов клиентов о магазине, что позволит увеличить количество заказов</td>\n",
       "      <td>3</td>\n",
       "      <td>2</td>\n",
       "      <td>2</td>\n",
       "      <td>3</td>\n",
       "    </tr>\n",
       "    <tr>\n",
       "      <th>6</th>\n",
       "      <td>Показать на главной странице баннеры с актуальными акциями и распродажами, чтобы увеличить конверсию</td>\n",
       "      <td>5</td>\n",
       "      <td>3</td>\n",
       "      <td>8</td>\n",
       "      <td>3</td>\n",
       "    </tr>\n",
       "    <tr>\n",
       "      <th>7</th>\n",
       "      <td>Добавить форму подписки на все основные страницы, чтобы собрать базу клиентов для email-рассылок</td>\n",
       "      <td>10</td>\n",
       "      <td>7</td>\n",
       "      <td>8</td>\n",
       "      <td>5</td>\n",
       "    </tr>\n",
       "    <tr>\n",
       "      <th>8</th>\n",
       "      <td>Запустить акцию, дающую скидку на товар в день рождения</td>\n",
       "      <td>1</td>\n",
       "      <td>9</td>\n",
       "      <td>9</td>\n",
       "      <td>5</td>\n",
       "    </tr>\n",
       "  </tbody>\n",
       "</table>\n",
       "</div>"
      ],
      "text/plain": [
       "                                                                                                     Hypothesis  Reach  Impact  Confidence  Efforts\n",
       "0            Добавить два новых канала привлечения трафика, что позволит привлекать на 30% больше пользователей      3      10           8        6\n",
       "1                                     Запустить собственную службу доставки, что сократит срок доставки заказов      2       5           4       10\n",
       "2  Добавить блоки рекомендаций товаров на сайт интернет магазина, чтобы повысить конверсию и средний чек заказа      8       3           7        3\n",
       "3           Изменить структура категорий, что увеличит конверсию, т.к. пользователи быстрее найдут нужный товар      8       3           3        8\n",
       "4                              Изменить цвет фона главной страницы, чтобы увеличить вовлеченность пользователей      3       1           1        1\n",
       "5                      Добавить страницу отзывов клиентов о магазине, что позволит увеличить количество заказов      3       2           2        3\n",
       "6          Показать на главной странице баннеры с актуальными акциями и распродажами, чтобы увеличить конверсию      5       3           8        3\n",
       "7              Добавить форму подписки на все основные страницы, чтобы собрать базу клиентов для email-рассылок     10       7           8        5\n",
       "8                                                       Запустить акцию, дающую скидку на товар в день рождения      1       9           9        5"
      ]
     },
     "execution_count": 6,
     "metadata": {},
     "output_type": "execute_result"
    }
   ],
   "source": [
    "#настроим вид таблиц\n",
    "pd.set_option('max_colwidth', 120)\n",
    "pd.set_option('display.width', 500)\n",
    "hypothesis"
   ]
  },
  {
   "cell_type": "code",
   "execution_count": 7,
   "id": "867a5d90",
   "metadata": {},
   "outputs": [
    {
     "name": "stdout",
     "output_type": "stream",
     "text": [
      "<class 'pandas.core.frame.DataFrame'>\n",
      "RangeIndex: 9 entries, 0 to 8\n",
      "Data columns (total 5 columns):\n",
      " #   Column      Non-Null Count  Dtype \n",
      "---  ------      --------------  ----- \n",
      " 0   Hypothesis  9 non-null      object\n",
      " 1   Reach       9 non-null      int64 \n",
      " 2   Impact      9 non-null      int64 \n",
      " 3   Confidence  9 non-null      int64 \n",
      " 4   Efforts     9 non-null      int64 \n",
      "dtypes: int64(4), object(1)\n",
      "memory usage: 492.0+ bytes\n"
     ]
    }
   ],
   "source": [
    "hypothesis.info()"
   ]
  },
  {
   "cell_type": "code",
   "execution_count": 8,
   "id": "4e6851ef",
   "metadata": {},
   "outputs": [
    {
     "data": {
      "text/html": [
       "<div>\n",
       "<style scoped>\n",
       "    .dataframe tbody tr th:only-of-type {\n",
       "        vertical-align: middle;\n",
       "    }\n",
       "\n",
       "    .dataframe tbody tr th {\n",
       "        vertical-align: top;\n",
       "    }\n",
       "\n",
       "    .dataframe thead th {\n",
       "        text-align: right;\n",
       "    }\n",
       "</style>\n",
       "<table border=\"1\" class=\"dataframe\">\n",
       "  <thead>\n",
       "    <tr style=\"text-align: right;\">\n",
       "      <th></th>\n",
       "      <th>transactionId</th>\n",
       "      <th>visitorId</th>\n",
       "      <th>date</th>\n",
       "      <th>revenue</th>\n",
       "      <th>group</th>\n",
       "    </tr>\n",
       "  </thead>\n",
       "  <tbody>\n",
       "    <tr>\n",
       "      <th>0</th>\n",
       "      <td>3667963787</td>\n",
       "      <td>3312258926</td>\n",
       "      <td>2019-08-15</td>\n",
       "      <td>1650</td>\n",
       "      <td>B</td>\n",
       "    </tr>\n",
       "    <tr>\n",
       "      <th>1</th>\n",
       "      <td>2804400009</td>\n",
       "      <td>3642806036</td>\n",
       "      <td>2019-08-15</td>\n",
       "      <td>730</td>\n",
       "      <td>B</td>\n",
       "    </tr>\n",
       "    <tr>\n",
       "      <th>2</th>\n",
       "      <td>2961555356</td>\n",
       "      <td>4069496402</td>\n",
       "      <td>2019-08-15</td>\n",
       "      <td>400</td>\n",
       "      <td>A</td>\n",
       "    </tr>\n",
       "    <tr>\n",
       "      <th>3</th>\n",
       "      <td>3797467345</td>\n",
       "      <td>1196621759</td>\n",
       "      <td>2019-08-15</td>\n",
       "      <td>9759</td>\n",
       "      <td>B</td>\n",
       "    </tr>\n",
       "    <tr>\n",
       "      <th>4</th>\n",
       "      <td>2282983706</td>\n",
       "      <td>2322279887</td>\n",
       "      <td>2019-08-15</td>\n",
       "      <td>2308</td>\n",
       "      <td>B</td>\n",
       "    </tr>\n",
       "  </tbody>\n",
       "</table>\n",
       "</div>"
      ],
      "text/plain": [
       "   transactionId   visitorId        date  revenue group\n",
       "0     3667963787  3312258926  2019-08-15     1650     B\n",
       "1     2804400009  3642806036  2019-08-15      730     B\n",
       "2     2961555356  4069496402  2019-08-15      400     A\n",
       "3     3797467345  1196621759  2019-08-15     9759     B\n",
       "4     2282983706  2322279887  2019-08-15     2308     B"
      ]
     },
     "execution_count": 8,
     "metadata": {},
     "output_type": "execute_result"
    }
   ],
   "source": [
    "orders.head()"
   ]
  },
  {
   "cell_type": "code",
   "execution_count": 9,
   "id": "ddcdbced",
   "metadata": {},
   "outputs": [
    {
     "name": "stdout",
     "output_type": "stream",
     "text": [
      "<class 'pandas.core.frame.DataFrame'>\n",
      "RangeIndex: 1197 entries, 0 to 1196\n",
      "Data columns (total 5 columns):\n",
      " #   Column         Non-Null Count  Dtype \n",
      "---  ------         --------------  ----- \n",
      " 0   transactionId  1197 non-null   int64 \n",
      " 1   visitorId      1197 non-null   int64 \n",
      " 2   date           1197 non-null   object\n",
      " 3   revenue        1197 non-null   int64 \n",
      " 4   group          1197 non-null   object\n",
      "dtypes: int64(3), object(2)\n",
      "memory usage: 46.9+ KB\n"
     ]
    }
   ],
   "source": [
    "orders.info()"
   ]
  },
  {
   "cell_type": "code",
   "execution_count": 10,
   "id": "fd77abba",
   "metadata": {},
   "outputs": [
    {
     "data": {
      "text/html": [
       "<div>\n",
       "<style scoped>\n",
       "    .dataframe tbody tr th:only-of-type {\n",
       "        vertical-align: middle;\n",
       "    }\n",
       "\n",
       "    .dataframe tbody tr th {\n",
       "        vertical-align: top;\n",
       "    }\n",
       "\n",
       "    .dataframe thead th {\n",
       "        text-align: right;\n",
       "    }\n",
       "</style>\n",
       "<table border=\"1\" class=\"dataframe\">\n",
       "  <thead>\n",
       "    <tr style=\"text-align: right;\">\n",
       "      <th></th>\n",
       "      <th>date</th>\n",
       "      <th>group</th>\n",
       "      <th>visitors</th>\n",
       "    </tr>\n",
       "  </thead>\n",
       "  <tbody>\n",
       "    <tr>\n",
       "      <th>0</th>\n",
       "      <td>2019-08-01</td>\n",
       "      <td>A</td>\n",
       "      <td>719</td>\n",
       "    </tr>\n",
       "    <tr>\n",
       "      <th>1</th>\n",
       "      <td>2019-08-02</td>\n",
       "      <td>A</td>\n",
       "      <td>619</td>\n",
       "    </tr>\n",
       "    <tr>\n",
       "      <th>2</th>\n",
       "      <td>2019-08-03</td>\n",
       "      <td>A</td>\n",
       "      <td>507</td>\n",
       "    </tr>\n",
       "    <tr>\n",
       "      <th>3</th>\n",
       "      <td>2019-08-04</td>\n",
       "      <td>A</td>\n",
       "      <td>717</td>\n",
       "    </tr>\n",
       "    <tr>\n",
       "      <th>4</th>\n",
       "      <td>2019-08-05</td>\n",
       "      <td>A</td>\n",
       "      <td>756</td>\n",
       "    </tr>\n",
       "  </tbody>\n",
       "</table>\n",
       "</div>"
      ],
      "text/plain": [
       "         date group  visitors\n",
       "0  2019-08-01     A       719\n",
       "1  2019-08-02     A       619\n",
       "2  2019-08-03     A       507\n",
       "3  2019-08-04     A       717\n",
       "4  2019-08-05     A       756"
      ]
     },
     "execution_count": 10,
     "metadata": {},
     "output_type": "execute_result"
    }
   ],
   "source": [
    "visitors.head()"
   ]
  },
  {
   "cell_type": "code",
   "execution_count": 11,
   "id": "205fde3e",
   "metadata": {},
   "outputs": [
    {
     "name": "stdout",
     "output_type": "stream",
     "text": [
      "<class 'pandas.core.frame.DataFrame'>\n",
      "RangeIndex: 62 entries, 0 to 61\n",
      "Data columns (total 3 columns):\n",
      " #   Column    Non-Null Count  Dtype \n",
      "---  ------    --------------  ----- \n",
      " 0   date      62 non-null     object\n",
      " 1   group     62 non-null     object\n",
      " 2   visitors  62 non-null     int64 \n",
      "dtypes: int64(1), object(2)\n",
      "memory usage: 1.6+ KB\n"
     ]
    }
   ],
   "source": [
    "visitors.info()"
   ]
  },
  {
   "cell_type": "code",
   "execution_count": 12,
   "id": "9362d307",
   "metadata": {},
   "outputs": [],
   "source": [
    "# в таблицах 'orders' и 'visitors' дата представлена в формате object\n",
    "#приведем данные к формату datetime\n",
    "visitors['date'] = pd.to_datetime(visitors['date'])\n",
    "orders['date'] = pd.to_datetime(orders['date'])"
   ]
  },
  {
   "cell_type": "code",
   "execution_count": 13,
   "id": "bcee5571",
   "metadata": {
    "scrolled": false
   },
   "outputs": [
    {
     "data": {
      "text/plain": [
       "0"
      ]
     },
     "execution_count": 13,
     "metadata": {},
     "output_type": "execute_result"
    }
   ],
   "source": [
    "#проверим таблицы на наличие полных дубликатов\n",
    "orders.duplicated().sum()"
   ]
  },
  {
   "cell_type": "code",
   "execution_count": 14,
   "id": "c8627ace",
   "metadata": {
    "scrolled": false
   },
   "outputs": [
    {
     "data": {
      "text/plain": [
       "0"
      ]
     },
     "execution_count": 14,
     "metadata": {},
     "output_type": "execute_result"
    }
   ],
   "source": [
    "#проверим таблицы на наличие полных дубликатов\n",
    "visitors.duplicated().sum()"
   ]
  },
  {
   "cell_type": "markdown",
   "id": "d47c3910",
   "metadata": {},
   "source": [
    "### Проверяем корректность разбиения групп теста"
   ]
  },
  {
   "cell_type": "code",
   "execution_count": 15,
   "id": "8a92ba3e",
   "metadata": {},
   "outputs": [
    {
     "data": {
      "text/html": [
       "<div>\n",
       "<style scoped>\n",
       "    .dataframe tbody tr th:only-of-type {\n",
       "        vertical-align: middle;\n",
       "    }\n",
       "\n",
       "    .dataframe tbody tr th {\n",
       "        vertical-align: top;\n",
       "    }\n",
       "\n",
       "    .dataframe thead th {\n",
       "        text-align: right;\n",
       "    }\n",
       "</style>\n",
       "<table border=\"1\" class=\"dataframe\">\n",
       "  <thead>\n",
       "    <tr style=\"text-align: right;\">\n",
       "      <th></th>\n",
       "      <th>visitors</th>\n",
       "    </tr>\n",
       "    <tr>\n",
       "      <th>group</th>\n",
       "      <th></th>\n",
       "    </tr>\n",
       "  </thead>\n",
       "  <tbody>\n",
       "    <tr>\n",
       "      <th>A</th>\n",
       "      <td>18736</td>\n",
       "    </tr>\n",
       "    <tr>\n",
       "      <th>B</th>\n",
       "      <td>18916</td>\n",
       "    </tr>\n",
       "  </tbody>\n",
       "</table>\n",
       "</div>"
      ],
      "text/plain": [
       "       visitors\n",
       "group          \n",
       "A         18736\n",
       "B         18916"
      ]
     },
     "execution_count": 15,
     "metadata": {},
     "output_type": "execute_result"
    }
   ],
   "source": [
    "# проверим количество посетителй для групп А и В\n",
    "\n",
    "visitors_groups_num = visitors.groupby('group').agg({'visitors':'sum'})\n",
    "visitors_groups_num"
   ]
  },
  {
   "cell_type": "code",
   "execution_count": 16,
   "id": "2c075062",
   "metadata": {},
   "outputs": [
    {
     "data": {
      "text/plain": [
       "'В группе В на 180 посетителей большей, чем в группе А; это менее 1% от каждой из групп, можем игнорировать такую разницу'"
      ]
     },
     "execution_count": 16,
     "metadata": {},
     "output_type": "execute_result"
    }
   ],
   "source": [
    "#посчитаем процент, на который различаются группы\n",
    "diff1 = visitors_groups_num.loc['B','visitors'] - visitors_groups_num.loc['A','visitors']\n",
    "diff = round((visitors_groups_num.loc['B','visitors'] - visitors_groups_num.loc['A','visitors'])/visitors_groups_num.loc['B','visitors']*100)\n",
    "\n",
    "f'В группе В на {diff1} посетителей большей, чем в группе А; это менее {diff}% от каждой из групп, можем игнорировать такую разницу' "
   ]
  },
  {
   "cell_type": "code",
   "execution_count": 17,
   "id": "13165381",
   "metadata": {},
   "outputs": [
    {
     "data": {
      "text/html": [
       "<div>\n",
       "<style scoped>\n",
       "    .dataframe tbody tr th:only-of-type {\n",
       "        vertical-align: middle;\n",
       "    }\n",
       "\n",
       "    .dataframe tbody tr th {\n",
       "        vertical-align: top;\n",
       "    }\n",
       "\n",
       "    .dataframe thead th {\n",
       "        text-align: right;\n",
       "    }\n",
       "</style>\n",
       "<table border=\"1\" class=\"dataframe\">\n",
       "  <thead>\n",
       "    <tr style=\"text-align: right;\">\n",
       "      <th></th>\n",
       "      <th>transactionId</th>\n",
       "      <th>visitorId</th>\n",
       "    </tr>\n",
       "    <tr>\n",
       "      <th>group</th>\n",
       "      <th></th>\n",
       "      <th></th>\n",
       "    </tr>\n",
       "  </thead>\n",
       "  <tbody>\n",
       "    <tr>\n",
       "      <th>A</th>\n",
       "      <td>557</td>\n",
       "      <td>503</td>\n",
       "    </tr>\n",
       "    <tr>\n",
       "      <th>B</th>\n",
       "      <td>640</td>\n",
       "      <td>586</td>\n",
       "    </tr>\n",
       "  </tbody>\n",
       "</table>\n",
       "</div>"
      ],
      "text/plain": [
       "       transactionId  visitorId\n",
       "group                          \n",
       "A                557        503\n",
       "B                640        586"
      ]
     },
     "execution_count": 17,
     "metadata": {},
     "output_type": "execute_result"
    }
   ],
   "source": [
    "#посчитаем количество посетителей, сделавших заказы, в разрезе по группам\n",
    "orders_groups_num = orders.groupby('group').agg({'transactionId': 'nunique', 'visitorId': 'nunique'})\n",
    "orders_groups_num"
   ]
  },
  {
   "cell_type": "code",
   "execution_count": 18,
   "id": "696e9f1f",
   "metadata": {},
   "outputs": [
    {
     "data": {
      "text/plain": [
       "0"
      ]
     },
     "execution_count": 18,
     "metadata": {},
     "output_type": "execute_result"
    }
   ],
   "source": [
    "orders['transactionId'].duplicated().sum()"
   ]
  },
  {
   "cell_type": "code",
   "execution_count": 19,
   "id": "43b6b12d",
   "metadata": {},
   "outputs": [
    {
     "data": {
      "text/plain": [
       "166"
      ]
     },
     "execution_count": 19,
     "metadata": {},
     "output_type": "execute_result"
    }
   ],
   "source": [
    "orders['visitorId'].duplicated().sum()"
   ]
  },
  {
   "cell_type": "code",
   "execution_count": 22,
   "id": "fc2feb32",
   "metadata": {},
   "outputs": [
    {
     "data": {
      "text/plain": [
       "14"
      ]
     },
     "execution_count": 22,
     "metadata": {},
     "output_type": "execute_result"
    }
   ],
   "source": [
    "dup = round(orders['visitorId'].duplicated().sum()/len(orders['visitorId'])*100)\n",
    "dup"
   ]
  },
  {
   "cell_type": "markdown",
   "id": "45312098",
   "metadata": {},
   "source": [
    "##### Комментарий: \n",
    "- количество попкупок в двух группах различается (это нормально), при этом это уникальные транзакции, ошибок учета нет;\n",
    "- количество посетителей в группе А меньше на 83 единицы, при этом насчитывается 166 дубликатов Id покупателей сайта - это 14% всех данных\n",
    "- проблемы в дубликатах покупателей нет - они могли делать более 1 заказа"
   ]
  },
  {
   "cell_type": "code",
   "execution_count": 23,
   "id": "af9688d6",
   "metadata": {},
   "outputs": [],
   "source": [
    "#проверим пересечение групп А и В\n",
    "group_a = orders[orders['group']=='A']['visitorId'].nunique()\n",
    "group_b = orders[orders['group']=='B']['visitorId'].nunique()\n",
    "groups_ab = orders['visitorId'].nunique()\n",
    "ab_sum = group_a+group_b\n",
    "diff = ab_sum -groups_ab\n",
    "diff_percent = round(diff/groups_ab*100)"
   ]
  },
  {
   "cell_type": "code",
   "execution_count": 24,
   "id": "fa182dc7",
   "metadata": {},
   "outputs": [
    {
     "data": {
      "text/plain": [
       "'В двух группах вместе 1031 уникальных покупателей. Суммирование посчитанных по отдельности уникальных покупателей дает 1089'"
      ]
     },
     "execution_count": 24,
     "metadata": {},
     "output_type": "execute_result"
    }
   ],
   "source": [
    "f'В двух группах вместе {groups_ab} уникальных покупателей. Суммирование посчитанных по отдельности уникальных покупателей дает {ab_sum}'"
   ]
  },
  {
   "cell_type": "code",
   "execution_count": 25,
   "id": "34c04150",
   "metadata": {},
   "outputs": [
    {
     "data": {
      "text/plain": [
       "'Разница 58 единиц - это покупатели, которые попали в обе группы. Таковых 6% от всех уникальных посетителей и порядка 10% от каждой из групп'"
      ]
     },
     "execution_count": 25,
     "metadata": {},
     "output_type": "execute_result"
    }
   ],
   "source": [
    "f'Разница {diff} единиц - это покупатели, которые попали в обе группы. Таковых {diff_percent}% от всех уникальных посетителей и порядка 10% от каждой из групп'"
   ]
  },
  {
   "cell_type": "code",
   "execution_count": 26,
   "id": "8c9f6e15",
   "metadata": {
    "scrolled": true
   },
   "outputs": [],
   "source": [
    "#найдем список пересекающихся посетителей\n",
    "unique_a=pd.DataFrame(orders[orders['group']=='A']['visitorId'].unique())\n",
    "unique_b=pd.DataFrame(orders[orders['group']=='B']['visitorId'].unique())\n",
    "unique_b.columns = ['id']\n",
    "unique_a.columns = ['id']"
   ]
  },
  {
   "cell_type": "code",
   "execution_count": 27,
   "id": "766e6f12",
   "metadata": {},
   "outputs": [
    {
     "data": {
      "text/plain": [
       "58"
      ]
     },
     "execution_count": 27,
     "metadata": {},
     "output_type": "execute_result"
    }
   ],
   "source": [
    "intersection = unique_b.merge(unique_a, on = 'id', how='inner', suffixes = ('b','a'))\n",
    "len(intersection)"
   ]
  },
  {
   "cell_type": "markdown",
   "id": "3c106883",
   "metadata": {},
   "source": [
    "Cоздадим массив orders_clean без пересекающихся посетителей, чтобы проверить результаты теста на нем"
   ]
  },
  {
   "cell_type": "code",
   "execution_count": 29,
   "id": "4d7e66d4",
   "metadata": {
    "scrolled": true
   },
   "outputs": [
    {
     "name": "stdout",
     "output_type": "stream",
     "text": [
      "<class 'pandas.core.frame.DataFrame'>\n",
      "Index: 1016 entries, 0 to 1196\n",
      "Data columns (total 5 columns):\n",
      " #   Column         Non-Null Count  Dtype         \n",
      "---  ------         --------------  -----         \n",
      " 0   transactionId  1016 non-null   int64         \n",
      " 1   visitorId      1016 non-null   int64         \n",
      " 2   date           1016 non-null   datetime64[ns]\n",
      " 3   revenue        1016 non-null   int64         \n",
      " 4   group          1016 non-null   object        \n",
      "dtypes: datetime64[ns](1), int64(3), object(1)\n",
      "memory usage: 47.6+ KB\n"
     ]
    }
   ],
   "source": [
    "#создадим массив orders_clean без пересекающихся посетителей, чтобы проверить результаты теста на нем\n",
    "orders_clean = orders[~orders['visitorId'].isin(intersection['id'])]\n",
    "orders_clean.info()"
   ]
  },
  {
   "cell_type": "code",
   "execution_count": 30,
   "id": "54f8bb2d",
   "metadata": {},
   "outputs": [
    {
     "data": {
      "text/html": [
       "<div>\n",
       "<style scoped>\n",
       "    .dataframe tbody tr th:only-of-type {\n",
       "        vertical-align: middle;\n",
       "    }\n",
       "\n",
       "    .dataframe tbody tr th {\n",
       "        vertical-align: top;\n",
       "    }\n",
       "\n",
       "    .dataframe thead th {\n",
       "        text-align: right;\n",
       "    }\n",
       "</style>\n",
       "<table border=\"1\" class=\"dataframe\">\n",
       "  <thead>\n",
       "    <tr style=\"text-align: right;\">\n",
       "      <th></th>\n",
       "      <th>transactionId</th>\n",
       "      <th>visitorId</th>\n",
       "    </tr>\n",
       "    <tr>\n",
       "      <th>group</th>\n",
       "      <th></th>\n",
       "      <th></th>\n",
       "    </tr>\n",
       "  </thead>\n",
       "  <tbody>\n",
       "    <tr>\n",
       "      <th>A</th>\n",
       "      <td>468</td>\n",
       "      <td>445</td>\n",
       "    </tr>\n",
       "    <tr>\n",
       "      <th>B</th>\n",
       "      <td>548</td>\n",
       "      <td>528</td>\n",
       "    </tr>\n",
       "  </tbody>\n",
       "</table>\n",
       "</div>"
      ],
      "text/plain": [
       "       transactionId  visitorId\n",
       "group                          \n",
       "A                468        445\n",
       "B                548        528"
      ]
     },
     "execution_count": 30,
     "metadata": {},
     "output_type": "execute_result"
    }
   ],
   "source": [
    "#посмотрим распределение покупателей по группам в массиве orders_clean\n",
    "orders_clean_groups = orders_clean.groupby('group').agg({'transactionId': 'nunique', 'visitorId': 'nunique'})\n",
    "orders_clean_groups"
   ]
  },
  {
   "cell_type": "code",
   "execution_count": 31,
   "id": "b657fb47",
   "metadata": {},
   "outputs": [],
   "source": [
    "#проверим пересечение групп А и В\n",
    "group_2a = orders_clean[orders_clean['group']=='A']['visitorId'].nunique()\n",
    "group_2b = orders_clean[orders_clean['group']=='B']['visitorId'].nunique()\n",
    "groups_2ab = orders_clean['visitorId'].nunique()\n",
    "ab2_sum = group_2a+group_2b\n",
    "diff2 = ab2_sum -groups_2ab"
   ]
  },
  {
   "cell_type": "code",
   "execution_count": 32,
   "id": "6b2a5e53",
   "metadata": {},
   "outputs": [
    {
     "data": {
      "text/plain": [
       "'Разница между суммой уникальных покупателей в выборке в целом и суммой уникальных покупателей для каждой из групп по отдельности 0. Это значит, пересекающихся покупателей в массиве нет'"
      ]
     },
     "execution_count": 32,
     "metadata": {},
     "output_type": "execute_result"
    }
   ],
   "source": [
    "(f'Разница между суммой уникальных покупателей в выборке в целом и суммой уникальных покупателей для каждой из групп по отдельности {diff2}. Это значит, пересекающихся покупателей в массиве нет')"
   ]
  },
  {
   "cell_type": "markdown",
   "id": "106e8a86",
   "metadata": {},
   "source": [
    "## Выводы\n",
    "- мы ознакомились с данными для анализа\n",
    "- провели проверку на наличие явных дубликатов (дубликатов не обнаружено)\n",
    "- данные приведены к нужному типу (в частности - дата)\n",
    "- проверили корректность разбиения на группы: в таблице visitors разиение корректное, разница групп по наполненности(количеству посетителей) составляет 1%\n",
    "- в таблице orders обнаружилось пересечение между группами: 6% уникальных покупателей пошли и в группу А и группу В одновременно; доля пересекающихся посетителей в каждой группе - порядка 10%;\n",
    "- возможно влияние такого пересечния на результаты теста;\n",
    "- принято решение провести два варианта теста: с учетом пересечения групп и после удаления пользователей, которые попали в обе группы"
   ]
  },
  {
   "cell_type": "markdown",
   "id": "947287ba",
   "metadata": {},
   "source": [
    "# ЧАСТЬ 1. Приоритизация гипотез"
   ]
  },
  {
   "cell_type": "markdown",
   "id": "7b2e9e02",
   "metadata": {},
   "source": [
    "## Приоритизация гипотез посредством фреймворка ICE"
   ]
  },
  {
   "cell_type": "code",
   "execution_count": 33,
   "id": "bb4e5083",
   "metadata": {},
   "outputs": [],
   "source": [
    "hypothesis['ice'] = round (hypothesis['Impact']*hypothesis['Confidence']/hypothesis['Efforts'], 2)"
   ]
  },
  {
   "cell_type": "code",
   "execution_count": 34,
   "id": "35049698",
   "metadata": {
    "scrolled": true
   },
   "outputs": [],
   "source": [
    "#добавим ранг гипотезы\n",
    "hypothesis['ice_rank'] = hypothesis['ice'].rank(ascending = False)"
   ]
  },
  {
   "cell_type": "code",
   "execution_count": 35,
   "id": "c488c350",
   "metadata": {},
   "outputs": [
    {
     "data": {
      "text/html": [
       "<div>\n",
       "<style scoped>\n",
       "    .dataframe tbody tr th:only-of-type {\n",
       "        vertical-align: middle;\n",
       "    }\n",
       "\n",
       "    .dataframe tbody tr th {\n",
       "        vertical-align: top;\n",
       "    }\n",
       "\n",
       "    .dataframe thead th {\n",
       "        text-align: right;\n",
       "    }\n",
       "</style>\n",
       "<table border=\"1\" class=\"dataframe\">\n",
       "  <thead>\n",
       "    <tr style=\"text-align: right;\">\n",
       "      <th></th>\n",
       "      <th>Hypothesis</th>\n",
       "      <th>ice</th>\n",
       "      <th>ice_rank</th>\n",
       "    </tr>\n",
       "  </thead>\n",
       "  <tbody>\n",
       "    <tr>\n",
       "      <th>8</th>\n",
       "      <td>Запустить акцию, дающую скидку на товар в день рождения</td>\n",
       "      <td>16.20</td>\n",
       "      <td>1.0</td>\n",
       "    </tr>\n",
       "    <tr>\n",
       "      <th>0</th>\n",
       "      <td>Добавить два новых канала привлечения трафика, что позволит привлекать на 30% больше пользователей</td>\n",
       "      <td>13.33</td>\n",
       "      <td>2.0</td>\n",
       "    </tr>\n",
       "    <tr>\n",
       "      <th>7</th>\n",
       "      <td>Добавить форму подписки на все основные страницы, чтобы собрать базу клиентов для email-рассылок</td>\n",
       "      <td>11.20</td>\n",
       "      <td>3.0</td>\n",
       "    </tr>\n",
       "    <tr>\n",
       "      <th>6</th>\n",
       "      <td>Показать на главной странице баннеры с актуальными акциями и распродажами, чтобы увеличить конверсию</td>\n",
       "      <td>8.00</td>\n",
       "      <td>4.0</td>\n",
       "    </tr>\n",
       "    <tr>\n",
       "      <th>2</th>\n",
       "      <td>Добавить блоки рекомендаций товаров на сайт интернет магазина, чтобы повысить конверсию и средний чек заказа</td>\n",
       "      <td>7.00</td>\n",
       "      <td>5.0</td>\n",
       "    </tr>\n",
       "    <tr>\n",
       "      <th>1</th>\n",
       "      <td>Запустить собственную службу доставки, что сократит срок доставки заказов</td>\n",
       "      <td>2.00</td>\n",
       "      <td>6.0</td>\n",
       "    </tr>\n",
       "    <tr>\n",
       "      <th>5</th>\n",
       "      <td>Добавить страницу отзывов клиентов о магазине, что позволит увеличить количество заказов</td>\n",
       "      <td>1.33</td>\n",
       "      <td>7.0</td>\n",
       "    </tr>\n",
       "    <tr>\n",
       "      <th>3</th>\n",
       "      <td>Изменить структура категорий, что увеличит конверсию, т.к. пользователи быстрее найдут нужный товар</td>\n",
       "      <td>1.12</td>\n",
       "      <td>8.0</td>\n",
       "    </tr>\n",
       "    <tr>\n",
       "      <th>4</th>\n",
       "      <td>Изменить цвет фона главной страницы, чтобы увеличить вовлеченность пользователей</td>\n",
       "      <td>1.00</td>\n",
       "      <td>9.0</td>\n",
       "    </tr>\n",
       "  </tbody>\n",
       "</table>\n",
       "</div>"
      ],
      "text/plain": [
       "                                                                                                     Hypothesis    ice  ice_rank\n",
       "8                                                       Запустить акцию, дающую скидку на товар в день рождения  16.20       1.0\n",
       "0            Добавить два новых канала привлечения трафика, что позволит привлекать на 30% больше пользователей  13.33       2.0\n",
       "7              Добавить форму подписки на все основные страницы, чтобы собрать базу клиентов для email-рассылок  11.20       3.0\n",
       "6          Показать на главной странице баннеры с актуальными акциями и распродажами, чтобы увеличить конверсию   8.00       4.0\n",
       "2  Добавить блоки рекомендаций товаров на сайт интернет магазина, чтобы повысить конверсию и средний чек заказа   7.00       5.0\n",
       "1                                     Запустить собственную службу доставки, что сократит срок доставки заказов   2.00       6.0\n",
       "5                      Добавить страницу отзывов клиентов о магазине, что позволит увеличить количество заказов   1.33       7.0\n",
       "3           Изменить структура категорий, что увеличит конверсию, т.к. пользователи быстрее найдут нужный товар   1.12       8.0\n",
       "4                              Изменить цвет фона главной страницы, чтобы увеличить вовлеченность пользователей   1.00       9.0"
      ]
     },
     "execution_count": 35,
     "metadata": {},
     "output_type": "execute_result"
    }
   ],
   "source": [
    "hypothesis[['Hypothesis','ice', 'ice_rank']].sort_values('ice', ascending = False)"
   ]
  },
  {
   "cell_type": "markdown",
   "id": "cadacad0",
   "metadata": {},
   "source": [
    "## Приоритизация гипотез посредством фреймворка RICE"
   ]
  },
  {
   "cell_type": "code",
   "execution_count": 36,
   "id": "e5bdaa0b",
   "metadata": {},
   "outputs": [],
   "source": [
    "hypothesis['rice'] = round (hypothesis['Reach']*hypothesis['Impact']*hypothesis['Confidence']/hypothesis['Efforts'], 2)"
   ]
  },
  {
   "cell_type": "code",
   "execution_count": 37,
   "id": "5652d1b6",
   "metadata": {},
   "outputs": [],
   "source": [
    "hypothesis['rice_rank'] = hypothesis['rice'].rank(ascending = False)"
   ]
  },
  {
   "cell_type": "code",
   "execution_count": 38,
   "id": "40c7f84f",
   "metadata": {
    "scrolled": true
   },
   "outputs": [
    {
     "data": {
      "text/html": [
       "<div>\n",
       "<style scoped>\n",
       "    .dataframe tbody tr th:only-of-type {\n",
       "        vertical-align: middle;\n",
       "    }\n",
       "\n",
       "    .dataframe tbody tr th {\n",
       "        vertical-align: top;\n",
       "    }\n",
       "\n",
       "    .dataframe thead th {\n",
       "        text-align: right;\n",
       "    }\n",
       "</style>\n",
       "<table border=\"1\" class=\"dataframe\">\n",
       "  <thead>\n",
       "    <tr style=\"text-align: right;\">\n",
       "      <th></th>\n",
       "      <th>Hypothesis</th>\n",
       "      <th>ice</th>\n",
       "      <th>ice_rank</th>\n",
       "      <th>rice</th>\n",
       "      <th>rice_rank</th>\n",
       "    </tr>\n",
       "  </thead>\n",
       "  <tbody>\n",
       "    <tr>\n",
       "      <th>7</th>\n",
       "      <td>Добавить форму подписки на все основные страницы, чтобы собрать базу клиентов для email-рассылок</td>\n",
       "      <td>11.20</td>\n",
       "      <td>3.0</td>\n",
       "      <td>112.0</td>\n",
       "      <td>1.0</td>\n",
       "    </tr>\n",
       "    <tr>\n",
       "      <th>2</th>\n",
       "      <td>Добавить блоки рекомендаций товаров на сайт интернет магазина, чтобы повысить конверсию и средний чек заказа</td>\n",
       "      <td>7.00</td>\n",
       "      <td>5.0</td>\n",
       "      <td>56.0</td>\n",
       "      <td>2.0</td>\n",
       "    </tr>\n",
       "    <tr>\n",
       "      <th>0</th>\n",
       "      <td>Добавить два новых канала привлечения трафика, что позволит привлекать на 30% больше пользователей</td>\n",
       "      <td>13.33</td>\n",
       "      <td>2.0</td>\n",
       "      <td>40.0</td>\n",
       "      <td>3.5</td>\n",
       "    </tr>\n",
       "    <tr>\n",
       "      <th>6</th>\n",
       "      <td>Показать на главной странице баннеры с актуальными акциями и распродажами, чтобы увеличить конверсию</td>\n",
       "      <td>8.00</td>\n",
       "      <td>4.0</td>\n",
       "      <td>40.0</td>\n",
       "      <td>3.5</td>\n",
       "    </tr>\n",
       "    <tr>\n",
       "      <th>8</th>\n",
       "      <td>Запустить акцию, дающую скидку на товар в день рождения</td>\n",
       "      <td>16.20</td>\n",
       "      <td>1.0</td>\n",
       "      <td>16.2</td>\n",
       "      <td>5.0</td>\n",
       "    </tr>\n",
       "    <tr>\n",
       "      <th>3</th>\n",
       "      <td>Изменить структура категорий, что увеличит конверсию, т.к. пользователи быстрее найдут нужный товар</td>\n",
       "      <td>1.12</td>\n",
       "      <td>8.0</td>\n",
       "      <td>9.0</td>\n",
       "      <td>6.0</td>\n",
       "    </tr>\n",
       "    <tr>\n",
       "      <th>1</th>\n",
       "      <td>Запустить собственную службу доставки, что сократит срок доставки заказов</td>\n",
       "      <td>2.00</td>\n",
       "      <td>6.0</td>\n",
       "      <td>4.0</td>\n",
       "      <td>7.5</td>\n",
       "    </tr>\n",
       "    <tr>\n",
       "      <th>5</th>\n",
       "      <td>Добавить страницу отзывов клиентов о магазине, что позволит увеличить количество заказов</td>\n",
       "      <td>1.33</td>\n",
       "      <td>7.0</td>\n",
       "      <td>4.0</td>\n",
       "      <td>7.5</td>\n",
       "    </tr>\n",
       "    <tr>\n",
       "      <th>4</th>\n",
       "      <td>Изменить цвет фона главной страницы, чтобы увеличить вовлеченность пользователей</td>\n",
       "      <td>1.00</td>\n",
       "      <td>9.0</td>\n",
       "      <td>3.0</td>\n",
       "      <td>9.0</td>\n",
       "    </tr>\n",
       "  </tbody>\n",
       "</table>\n",
       "</div>"
      ],
      "text/plain": [
       "                                                                                                     Hypothesis    ice  ice_rank   rice  rice_rank\n",
       "7              Добавить форму подписки на все основные страницы, чтобы собрать базу клиентов для email-рассылок  11.20       3.0  112.0        1.0\n",
       "2  Добавить блоки рекомендаций товаров на сайт интернет магазина, чтобы повысить конверсию и средний чек заказа   7.00       5.0   56.0        2.0\n",
       "0            Добавить два новых канала привлечения трафика, что позволит привлекать на 30% больше пользователей  13.33       2.0   40.0        3.5\n",
       "6          Показать на главной странице баннеры с актуальными акциями и распродажами, чтобы увеличить конверсию   8.00       4.0   40.0        3.5\n",
       "8                                                       Запустить акцию, дающую скидку на товар в день рождения  16.20       1.0   16.2        5.0\n",
       "3           Изменить структура категорий, что увеличит конверсию, т.к. пользователи быстрее найдут нужный товар   1.12       8.0    9.0        6.0\n",
       "1                                     Запустить собственную службу доставки, что сократит срок доставки заказов   2.00       6.0    4.0        7.5\n",
       "5                      Добавить страницу отзывов клиентов о магазине, что позволит увеличить количество заказов   1.33       7.0    4.0        7.5\n",
       "4                              Изменить цвет фона главной страницы, чтобы увеличить вовлеченность пользователей   1.00       9.0    3.0        9.0"
      ]
     },
     "execution_count": 38,
     "metadata": {},
     "output_type": "execute_result"
    }
   ],
   "source": [
    "hypothesis[['Hypothesis','ice', 'ice_rank', 'rice', 'rice_rank']].sort_values('rice', ascending = False)"
   ]
  },
  {
   "cell_type": "code",
   "execution_count": 39,
   "id": "3024de27",
   "metadata": {
    "scrolled": true
   },
   "outputs": [
    {
     "data": {
      "text/html": [
       "<div>\n",
       "<style scoped>\n",
       "    .dataframe tbody tr th:only-of-type {\n",
       "        vertical-align: middle;\n",
       "    }\n",
       "\n",
       "    .dataframe tbody tr th {\n",
       "        vertical-align: top;\n",
       "    }\n",
       "\n",
       "    .dataframe thead th {\n",
       "        text-align: right;\n",
       "    }\n",
       "</style>\n",
       "<table border=\"1\" class=\"dataframe\">\n",
       "  <thead>\n",
       "    <tr style=\"text-align: right;\">\n",
       "      <th></th>\n",
       "      <th>Hypothesis</th>\n",
       "      <th>rice_rank</th>\n",
       "      <th>ice_rank</th>\n",
       "    </tr>\n",
       "  </thead>\n",
       "  <tbody>\n",
       "    <tr>\n",
       "      <th>7</th>\n",
       "      <td>Добавить форму подписки на все основные страницы, чтобы собрать базу клиентов для email-рассылок</td>\n",
       "      <td>1.0</td>\n",
       "      <td>3.0</td>\n",
       "    </tr>\n",
       "    <tr>\n",
       "      <th>2</th>\n",
       "      <td>Добавить блоки рекомендаций товаров на сайт интернет магазина, чтобы повысить конверсию и средний чек заказа</td>\n",
       "      <td>2.0</td>\n",
       "      <td>5.0</td>\n",
       "    </tr>\n",
       "    <tr>\n",
       "      <th>0</th>\n",
       "      <td>Добавить два новых канала привлечения трафика, что позволит привлекать на 30% больше пользователей</td>\n",
       "      <td>3.5</td>\n",
       "      <td>2.0</td>\n",
       "    </tr>\n",
       "    <tr>\n",
       "      <th>6</th>\n",
       "      <td>Показать на главной странице баннеры с актуальными акциями и распродажами, чтобы увеличить конверсию</td>\n",
       "      <td>3.5</td>\n",
       "      <td>4.0</td>\n",
       "    </tr>\n",
       "    <tr>\n",
       "      <th>8</th>\n",
       "      <td>Запустить акцию, дающую скидку на товар в день рождения</td>\n",
       "      <td>5.0</td>\n",
       "      <td>1.0</td>\n",
       "    </tr>\n",
       "    <tr>\n",
       "      <th>3</th>\n",
       "      <td>Изменить структура категорий, что увеличит конверсию, т.к. пользователи быстрее найдут нужный товар</td>\n",
       "      <td>6.0</td>\n",
       "      <td>8.0</td>\n",
       "    </tr>\n",
       "    <tr>\n",
       "      <th>1</th>\n",
       "      <td>Запустить собственную службу доставки, что сократит срок доставки заказов</td>\n",
       "      <td>7.5</td>\n",
       "      <td>6.0</td>\n",
       "    </tr>\n",
       "    <tr>\n",
       "      <th>5</th>\n",
       "      <td>Добавить страницу отзывов клиентов о магазине, что позволит увеличить количество заказов</td>\n",
       "      <td>7.5</td>\n",
       "      <td>7.0</td>\n",
       "    </tr>\n",
       "    <tr>\n",
       "      <th>4</th>\n",
       "      <td>Изменить цвет фона главной страницы, чтобы увеличить вовлеченность пользователей</td>\n",
       "      <td>9.0</td>\n",
       "      <td>9.0</td>\n",
       "    </tr>\n",
       "  </tbody>\n",
       "</table>\n",
       "</div>"
      ],
      "text/plain": [
       "                                                                                                     Hypothesis  rice_rank  ice_rank\n",
       "7              Добавить форму подписки на все основные страницы, чтобы собрать базу клиентов для email-рассылок        1.0       3.0\n",
       "2  Добавить блоки рекомендаций товаров на сайт интернет магазина, чтобы повысить конверсию и средний чек заказа        2.0       5.0\n",
       "0            Добавить два новых канала привлечения трафика, что позволит привлекать на 30% больше пользователей        3.5       2.0\n",
       "6          Показать на главной странице баннеры с актуальными акциями и распродажами, чтобы увеличить конверсию        3.5       4.0\n",
       "8                                                       Запустить акцию, дающую скидку на товар в день рождения        5.0       1.0\n",
       "3           Изменить структура категорий, что увеличит конверсию, т.к. пользователи быстрее найдут нужный товар        6.0       8.0\n",
       "1                                     Запустить собственную службу доставки, что сократит срок доставки заказов        7.5       6.0\n",
       "5                      Добавить страницу отзывов клиентов о магазине, что позволит увеличить количество заказов        7.5       7.0\n",
       "4                              Изменить цвет фона главной страницы, чтобы увеличить вовлеченность пользователей        9.0       9.0"
      ]
     },
     "execution_count": 39,
     "metadata": {},
     "output_type": "execute_result"
    }
   ],
   "source": [
    "hypothesis[['Hypothesis', 'rice_rank', 'ice_rank']].sort_values('rice_rank')"
   ]
  },
  {
   "cell_type": "markdown",
   "id": "89611916",
   "metadata": {},
   "source": [
    "## Выводы"
   ]
  },
  {
   "cell_type": "markdown",
   "id": "6fc06884",
   "metadata": {},
   "source": [
    "Приоритизация гипотез двумя алгоритмами дала разные результаты: \n",
    "- применение алгоритма rice (с учетом параметра 'reach') поставило на первое место гипотезы №7 и №2(номера гипотез по индексу);\n",
    "-  в результате ice-алгоритма на первых местах стояли гипотезы №8 и №0. \n",
    "- учет параметра 'reach' вывел на первое место предложение \"Добавить форму подписки на все основные страницы...\", которая, как ожидается, даст бОльший эффект, так как охватит всех посетителей магазина;\n",
    "- предложение \"Запустить акцию, дающую скидку на товар в день рождения\" (первое место по ICE-алгоритму), скорее всего, охватит лишь узкий сегмент посетителей магазина (хотя, возможно, и с хорошим эффектом), а потому суммарный эффект от такого нововведения ожидается ниже."
   ]
  },
  {
   "cell_type": "markdown",
   "id": "d4560f57",
   "metadata": {},
   "source": [
    "# ЧАСТЬ 2. Анализ А/В теста"
   ]
  },
  {
   "cell_type": "markdown",
   "id": "0d7d9bf7",
   "metadata": {},
   "source": [
    "## Cоздадим массив с куммулятивными данными"
   ]
  },
  {
   "cell_type": "code",
   "execution_count": 51,
   "id": "abf19124",
   "metadata": {},
   "outputs": [],
   "source": [
    "dates_groups = orders_clean[['date', 'group']].drop_duplicates()"
   ]
  },
  {
   "cell_type": "code",
   "execution_count": 52,
   "id": "3631806f",
   "metadata": {},
   "outputs": [],
   "source": [
    "orders_aggregated = (dates_groups.apply(lambda x: orders_clean[np.logical_and(orders_clean['date'] <= x['date'],\n",
    "                                                orders_clean['group'] == x['group'])]\n",
    "                    .agg({'date':'max', 'group':'max', 'revenue':'sum', 'transactionId':pd.Series.nunique, 'visitorId':pd.Series.nunique}),\n",
    "                                        axis=1).sort_values(by=['date', 'group'])\n",
    "                                                                       )"
   ]
  },
  {
   "cell_type": "code",
   "execution_count": 53,
   "id": "eb4511e8",
   "metadata": {
    "scrolled": false
   },
   "outputs": [
    {
     "data": {
      "text/html": [
       "<div>\n",
       "<style scoped>\n",
       "    .dataframe tbody tr th:only-of-type {\n",
       "        vertical-align: middle;\n",
       "    }\n",
       "\n",
       "    .dataframe tbody tr th {\n",
       "        vertical-align: top;\n",
       "    }\n",
       "\n",
       "    .dataframe thead th {\n",
       "        text-align: right;\n",
       "    }\n",
       "</style>\n",
       "<table border=\"1\" class=\"dataframe\">\n",
       "  <thead>\n",
       "    <tr style=\"text-align: right;\">\n",
       "      <th></th>\n",
       "      <th>date</th>\n",
       "      <th>group</th>\n",
       "      <th>revenue</th>\n",
       "      <th>transactionId</th>\n",
       "      <th>visitorId</th>\n",
       "    </tr>\n",
       "  </thead>\n",
       "  <tbody>\n",
       "    <tr>\n",
       "      <th>55</th>\n",
       "      <td>2019-08-01</td>\n",
       "      <td>A</td>\n",
       "      <td>142779</td>\n",
       "      <td>23</td>\n",
       "      <td>19</td>\n",
       "    </tr>\n",
       "    <tr>\n",
       "      <th>66</th>\n",
       "      <td>2019-08-01</td>\n",
       "      <td>B</td>\n",
       "      <td>59758</td>\n",
       "      <td>17</td>\n",
       "      <td>17</td>\n",
       "    </tr>\n",
       "    <tr>\n",
       "      <th>175</th>\n",
       "      <td>2019-08-02</td>\n",
       "      <td>A</td>\n",
       "      <td>234381</td>\n",
       "      <td>42</td>\n",
       "      <td>36</td>\n",
       "    </tr>\n",
       "    <tr>\n",
       "      <th>173</th>\n",
       "      <td>2019-08-02</td>\n",
       "      <td>B</td>\n",
       "      <td>221801</td>\n",
       "      <td>40</td>\n",
       "      <td>39</td>\n",
       "    </tr>\n",
       "    <tr>\n",
       "      <th>291</th>\n",
       "      <td>2019-08-03</td>\n",
       "      <td>A</td>\n",
       "      <td>346854</td>\n",
       "      <td>66</td>\n",
       "      <td>60</td>\n",
       "    </tr>\n",
       "  </tbody>\n",
       "</table>\n",
       "</div>"
      ],
      "text/plain": [
       "          date group  revenue  transactionId  visitorId\n",
       "55  2019-08-01     A   142779             23         19\n",
       "66  2019-08-01     B    59758             17         17\n",
       "175 2019-08-02     A   234381             42         36\n",
       "173 2019-08-02     B   221801             40         39\n",
       "291 2019-08-03     A   346854             66         60"
      ]
     },
     "execution_count": 53,
     "metadata": {},
     "output_type": "execute_result"
    }
   ],
   "source": [
    "orders_aggregated.head()"
   ]
  },
  {
   "cell_type": "code",
   "execution_count": 54,
   "id": "519016e9",
   "metadata": {},
   "outputs": [],
   "source": [
    "visitors_aggregated = (dates_groups.apply(lambda x: visitors[np.logical_and(visitors['date'] <= x['date'],\n",
    "                                                                           visitors['group']== x['group'])]\n",
    "                                         .agg({'date':'max', 'group':'max', 'visitors':'sum'}), axis = 1)\n",
    "                                        .sort_values(by = ['date', 'group'])\n",
    ")"
   ]
  },
  {
   "cell_type": "code",
   "execution_count": 55,
   "id": "7139f194",
   "metadata": {},
   "outputs": [
    {
     "data": {
      "text/html": [
       "<div>\n",
       "<style scoped>\n",
       "    .dataframe tbody tr th:only-of-type {\n",
       "        vertical-align: middle;\n",
       "    }\n",
       "\n",
       "    .dataframe tbody tr th {\n",
       "        vertical-align: top;\n",
       "    }\n",
       "\n",
       "    .dataframe thead th {\n",
       "        text-align: right;\n",
       "    }\n",
       "</style>\n",
       "<table border=\"1\" class=\"dataframe\">\n",
       "  <thead>\n",
       "    <tr style=\"text-align: right;\">\n",
       "      <th></th>\n",
       "      <th>date</th>\n",
       "      <th>group</th>\n",
       "      <th>visitors</th>\n",
       "    </tr>\n",
       "  </thead>\n",
       "  <tbody>\n",
       "    <tr>\n",
       "      <th>55</th>\n",
       "      <td>2019-08-01</td>\n",
       "      <td>A</td>\n",
       "      <td>719</td>\n",
       "    </tr>\n",
       "    <tr>\n",
       "      <th>66</th>\n",
       "      <td>2019-08-01</td>\n",
       "      <td>B</td>\n",
       "      <td>713</td>\n",
       "    </tr>\n",
       "    <tr>\n",
       "      <th>175</th>\n",
       "      <td>2019-08-02</td>\n",
       "      <td>A</td>\n",
       "      <td>1338</td>\n",
       "    </tr>\n",
       "    <tr>\n",
       "      <th>173</th>\n",
       "      <td>2019-08-02</td>\n",
       "      <td>B</td>\n",
       "      <td>1294</td>\n",
       "    </tr>\n",
       "    <tr>\n",
       "      <th>291</th>\n",
       "      <td>2019-08-03</td>\n",
       "      <td>A</td>\n",
       "      <td>1845</td>\n",
       "    </tr>\n",
       "  </tbody>\n",
       "</table>\n",
       "</div>"
      ],
      "text/plain": [
       "          date group  visitors\n",
       "55  2019-08-01     A       719\n",
       "66  2019-08-01     B       713\n",
       "175 2019-08-02     A      1338\n",
       "173 2019-08-02     B      1294\n",
       "291 2019-08-03     A      1845"
      ]
     },
     "execution_count": 55,
     "metadata": {},
     "output_type": "execute_result"
    }
   ],
   "source": [
    "visitors_aggregated.head()"
   ]
  },
  {
   "cell_type": "code",
   "execution_count": 56,
   "id": "4397a780",
   "metadata": {},
   "outputs": [],
   "source": [
    "cummulative_data = orders_aggregated.merge(visitors_aggregated, left_on=['date', 'group'], right_on = ['date', 'group'])\n",
    "cummulative_data.columns = ['date', 'group', 'revenue', 'orders', 'buyers', 'visitors']"
   ]
  },
  {
   "cell_type": "code",
   "execution_count": 57,
   "id": "5675f966",
   "metadata": {},
   "outputs": [],
   "source": [
    "#сразу посчитаем куммулятивное среднее количество заказов на посетителя\n",
    "cummulative_data['conversion'] = cummulative_data['orders'] / cummulative_data['visitors']"
   ]
  },
  {
   "cell_type": "code",
   "execution_count": 58,
   "id": "a21487ab",
   "metadata": {},
   "outputs": [
    {
     "data": {
      "text/html": [
       "<div>\n",
       "<style scoped>\n",
       "    .dataframe tbody tr th:only-of-type {\n",
       "        vertical-align: middle;\n",
       "    }\n",
       "\n",
       "    .dataframe tbody tr th {\n",
       "        vertical-align: top;\n",
       "    }\n",
       "\n",
       "    .dataframe thead th {\n",
       "        text-align: right;\n",
       "    }\n",
       "</style>\n",
       "<table border=\"1\" class=\"dataframe\">\n",
       "  <thead>\n",
       "    <tr style=\"text-align: right;\">\n",
       "      <th></th>\n",
       "      <th>date</th>\n",
       "      <th>group</th>\n",
       "      <th>revenue</th>\n",
       "      <th>orders</th>\n",
       "      <th>buyers</th>\n",
       "      <th>visitors</th>\n",
       "      <th>conversion</th>\n",
       "    </tr>\n",
       "  </thead>\n",
       "  <tbody>\n",
       "    <tr>\n",
       "      <th>0</th>\n",
       "      <td>2019-08-01</td>\n",
       "      <td>A</td>\n",
       "      <td>142779</td>\n",
       "      <td>23</td>\n",
       "      <td>19</td>\n",
       "      <td>719</td>\n",
       "      <td>0.031989</td>\n",
       "    </tr>\n",
       "    <tr>\n",
       "      <th>1</th>\n",
       "      <td>2019-08-01</td>\n",
       "      <td>B</td>\n",
       "      <td>59758</td>\n",
       "      <td>17</td>\n",
       "      <td>17</td>\n",
       "      <td>713</td>\n",
       "      <td>0.023843</td>\n",
       "    </tr>\n",
       "    <tr>\n",
       "      <th>2</th>\n",
       "      <td>2019-08-02</td>\n",
       "      <td>A</td>\n",
       "      <td>234381</td>\n",
       "      <td>42</td>\n",
       "      <td>36</td>\n",
       "      <td>1338</td>\n",
       "      <td>0.031390</td>\n",
       "    </tr>\n",
       "    <tr>\n",
       "      <th>3</th>\n",
       "      <td>2019-08-02</td>\n",
       "      <td>B</td>\n",
       "      <td>221801</td>\n",
       "      <td>40</td>\n",
       "      <td>39</td>\n",
       "      <td>1294</td>\n",
       "      <td>0.030912</td>\n",
       "    </tr>\n",
       "    <tr>\n",
       "      <th>4</th>\n",
       "      <td>2019-08-03</td>\n",
       "      <td>A</td>\n",
       "      <td>346854</td>\n",
       "      <td>66</td>\n",
       "      <td>60</td>\n",
       "      <td>1845</td>\n",
       "      <td>0.035772</td>\n",
       "    </tr>\n",
       "  </tbody>\n",
       "</table>\n",
       "</div>"
      ],
      "text/plain": [
       "        date group  revenue  orders  buyers  visitors  conversion\n",
       "0 2019-08-01     A   142779      23      19       719    0.031989\n",
       "1 2019-08-01     B    59758      17      17       713    0.023843\n",
       "2 2019-08-02     A   234381      42      36      1338    0.031390\n",
       "3 2019-08-02     B   221801      40      39      1294    0.030912\n",
       "4 2019-08-03     A   346854      66      60      1845    0.035772"
      ]
     },
     "execution_count": 58,
     "metadata": {},
     "output_type": "execute_result"
    }
   ],
   "source": [
    "cummulative_data.head()"
   ]
  },
  {
   "cell_type": "markdown",
   "id": "1f819890",
   "metadata": {},
   "source": [
    "## График кумулятивной выручки по группам"
   ]
  },
  {
   "cell_type": "code",
   "execution_count": 59,
   "id": "30a2898e",
   "metadata": {},
   "outputs": [],
   "source": [
    "#создаем таблицу с куммулятивными метриками для группы А\n",
    "cumm_metric_a = cummulative_data [cummulative_data['group'] == 'A'][['date', 'revenue', 'orders', 'conversion']]"
   ]
  },
  {
   "cell_type": "code",
   "execution_count": 60,
   "id": "85541654",
   "metadata": {},
   "outputs": [],
   "source": [
    "#создаем таблицу с куммулятивными метриками для группы B\n",
    "cumm_metric_b = cummulative_data [cummulative_data['group'] == 'B'][['date', 'revenue', 'orders', 'conversion']]"
   ]
  },
  {
   "cell_type": "code",
   "execution_count": 61,
   "id": "46ede1a0",
   "metadata": {},
   "outputs": [
    {
     "data": {
      "image/png": "[encoded data removed]",
      "text/plain": [
       "<Figure size 1200x600 with 1 Axes>"
      ]
     },
     "metadata": {},
     "output_type": "display_data"
    }
   ],
   "source": [
    "#строим графики\n",
    "plt.figure(figsize = (12, 6))\n",
    "plt.plot(cumm_metric_a['date'], cumm_metric_a['revenue'], label = 'A')\n",
    "plt.plot(cumm_metric_b['date'], cumm_metric_b['revenue'], label = 'B')\n",
    "plt.legend()\n",
    "plt.title('Куммулятивная выручка по группам')\n",
    "plt.xlabel('Дата')\n",
    "plt.ylabel('Куммулятивная выручка, у.е.')\n",
    "plt.show()"
   ]
  },
  {
   "cell_type": "markdown",
   "id": "5d20da9b",
   "metadata": {},
   "source": [
    "### Выводы: \n",
    "- в обеих группа куммулятивная выручка равномерно росла в течение всего периода\n",
    "- уже на первой неделе теста куммулятивная выручка в группе В была несколько выше, нежели в группе А\n",
    "- на третьей неделе наблюдается резкий скачок выручки в группе В, вероятно - это может быть связано с аномально-высокими значениями в данных (выбросами)"
   ]
  },
  {
   "cell_type": "markdown",
   "id": "6fd71493",
   "metadata": {},
   "source": [
    "## Постройте график кумулятивного среднего чека по группам"
   ]
  },
  {
   "cell_type": "code",
   "execution_count": 62,
   "id": "3705bc86",
   "metadata": {},
   "outputs": [
    {
     "data": {
      "image/png": "[encoded data removed]",
      "text/plain": [
       "<Figure size 1200x600 with 1 Axes>"
      ]
     },
     "metadata": {},
     "output_type": "display_data"
    }
   ],
   "source": [
    "plt.figure(figsize = (12, 6))\n",
    "plt.plot(cumm_metric_a['date'], cumm_metric_a['revenue']/cumm_metric_a['orders'], label = 'A')\n",
    "plt.plot(cumm_metric_b['date'], cumm_metric_b['revenue']/cumm_metric_b['orders'], label = 'B')\n",
    "plt.legend()\n",
    "plt.title('Куммулятивный средний чек по группам')\n",
    "plt.xlabel('Дата')\n",
    "plt.ylabel('КУммулятивный средний чек, у.е.')\n",
    "plt.show()"
   ]
  },
  {
   "cell_type": "markdown",
   "id": "92a3b2a2",
   "metadata": {},
   "source": [
    "### Выводы: \n",
    "- в обеих группа куммулятивный средний чек в течение всего периода рос, однако неравномерно,  со скачками\n",
    "- помимо аномального скачка среднего чека в группе В на третьей неделе, видны колебания на первой неделе в обеимх группах; скорее всего есть аномальные значения как в данные по выручке, так и в данных о количестве заказов на человека;\n",
    "- к концу теста данные о среднем чеке остаются неравномерными; оценивать разницу между группами по такому графику сложно; будем смотреть на аномалии."
   ]
  },
  {
   "cell_type": "markdown",
   "id": "7d237012",
   "metadata": {},
   "source": [
    "## График относительного изменения кумулятивного среднего чека группы B к группе A"
   ]
  },
  {
   "cell_type": "code",
   "execution_count": 63,
   "id": "93f1fb32",
   "metadata": {},
   "outputs": [],
   "source": [
    "#соберем необъходимые метрики в одной таблице\n",
    "merged_cumm_metric = cumm_metric_a.merge(cumm_metric_b, left_on='date', right_on='date', how='left', suffixes=['A', 'B'])\n"
   ]
  },
  {
   "cell_type": "code",
   "execution_count": 64,
   "id": "b73ffbcd",
   "metadata": {},
   "outputs": [
    {
     "data": {
      "text/html": [
       "<div>\n",
       "<style scoped>\n",
       "    .dataframe tbody tr th:only-of-type {\n",
       "        vertical-align: middle;\n",
       "    }\n",
       "\n",
       "    .dataframe tbody tr th {\n",
       "        vertical-align: top;\n",
       "    }\n",
       "\n",
       "    .dataframe thead th {\n",
       "        text-align: right;\n",
       "    }\n",
       "</style>\n",
       "<table border=\"1\" class=\"dataframe\">\n",
       "  <thead>\n",
       "    <tr style=\"text-align: right;\">\n",
       "      <th></th>\n",
       "      <th>date</th>\n",
       "      <th>revenueA</th>\n",
       "      <th>ordersA</th>\n",
       "      <th>conversionA</th>\n",
       "      <th>revenueB</th>\n",
       "      <th>ordersB</th>\n",
       "      <th>conversionB</th>\n",
       "    </tr>\n",
       "  </thead>\n",
       "  <tbody>\n",
       "    <tr>\n",
       "      <th>0</th>\n",
       "      <td>2019-08-01</td>\n",
       "      <td>142779</td>\n",
       "      <td>23</td>\n",
       "      <td>0.031989</td>\n",
       "      <td>59758</td>\n",
       "      <td>17</td>\n",
       "      <td>0.023843</td>\n",
       "    </tr>\n",
       "    <tr>\n",
       "      <th>1</th>\n",
       "      <td>2019-08-02</td>\n",
       "      <td>234381</td>\n",
       "      <td>42</td>\n",
       "      <td>0.031390</td>\n",
       "      <td>221801</td>\n",
       "      <td>40</td>\n",
       "      <td>0.030912</td>\n",
       "    </tr>\n",
       "    <tr>\n",
       "      <th>2</th>\n",
       "      <td>2019-08-03</td>\n",
       "      <td>346854</td>\n",
       "      <td>66</td>\n",
       "      <td>0.035772</td>\n",
       "      <td>288850</td>\n",
       "      <td>54</td>\n",
       "      <td>0.029950</td>\n",
       "    </tr>\n",
       "    <tr>\n",
       "      <th>3</th>\n",
       "      <td>2019-08-04</td>\n",
       "      <td>388030</td>\n",
       "      <td>77</td>\n",
       "      <td>0.030055</td>\n",
       "      <td>385740</td>\n",
       "      <td>68</td>\n",
       "      <td>0.026428</td>\n",
       "    </tr>\n",
       "    <tr>\n",
       "      <th>4</th>\n",
       "      <td>2019-08-05</td>\n",
       "      <td>474413</td>\n",
       "      <td>99</td>\n",
       "      <td>0.029837</td>\n",
       "      <td>475648</td>\n",
       "      <td>89</td>\n",
       "      <td>0.027134</td>\n",
       "    </tr>\n",
       "  </tbody>\n",
       "</table>\n",
       "</div>"
      ],
      "text/plain": [
       "        date  revenueA  ordersA  conversionA  revenueB  ordersB  conversionB\n",
       "0 2019-08-01    142779       23     0.031989     59758       17     0.023843\n",
       "1 2019-08-02    234381       42     0.031390    221801       40     0.030912\n",
       "2 2019-08-03    346854       66     0.035772    288850       54     0.029950\n",
       "3 2019-08-04    388030       77     0.030055    385740       68     0.026428\n",
       "4 2019-08-05    474413       99     0.029837    475648       89     0.027134"
      ]
     },
     "execution_count": 64,
     "metadata": {},
     "output_type": "execute_result"
    }
   ],
   "source": [
    "merged_cumm_metric.head()"
   ]
  },
  {
   "cell_type": "code",
   "execution_count": 65,
   "id": "cf57b6d5",
   "metadata": {
    "scrolled": false
   },
   "outputs": [
    {
     "data": {
      "image/png": "[encoded data removed]",
      "text/plain": [
       "<Figure size 1300x600 with 1 Axes>"
      ]
     },
     "metadata": {},
     "output_type": "display_data"
    }
   ],
   "source": [
    "plt.figure(figsize = (13, 6))\n",
    "plt.plot(merged_cumm_metric['date'], \n",
    "          ((merged_cumm_metric['revenueB']/merged_cumm_metric['ordersB'])/\n",
    "           (merged_cumm_metric['revenueA']/merged_cumm_metric['ordersA'] - 1))\n",
    "         )\n",
    "plt.axhline(y=0, color='black', linestyle='--') \n",
    "plt.title('График относительного изменения кумулятивного среднего чека группы B к группе A')\n",
    "plt.xlabel('Дата')\n",
    "plt.ylabel('Изменение кумулятивного среднего чека группы B к группе A, у.е.')\n",
    "\n",
    "plt.show()"
   ]
  },
  {
   "cell_type": "markdown",
   "id": "62032563",
   "metadata": {},
   "source": [
    "### Выводы: \n",
    "- куммулятивный средний чек в группе В стабильно выше чека в группе А;  \n",
    "- разница между двумя группами неравномерная; очевидно на график влияют аномальные значения"
   ]
  },
  {
   "cell_type": "markdown",
   "id": "bf2c8e46",
   "metadata": {},
   "source": [
    "## График кумулятивного среднего количества заказов на посетителя по группам"
   ]
  },
  {
   "cell_type": "code",
   "execution_count": 66,
   "id": "3af7b27e",
   "metadata": {},
   "outputs": [
    {
     "data": {
      "image/png": "[encoded data removed]",
      "text/plain": [
       "<Figure size 1200x800 with 1 Axes>"
      ]
     },
     "metadata": {},
     "output_type": "display_data"
    }
   ],
   "source": [
    "plt.figure(figsize = (12, 8))\n",
    "plt.plot(cumm_metric_a['date'], cumm_metric_a['conversion'], label = 'A')\n",
    "plt.plot(cumm_metric_b['date'], cumm_metric_b['conversion'], label = 'B')\n",
    "plt.title('График кумулятивного среднего количества заказов на посетителя по группам')\n",
    "plt.xlabel('Дата')\n",
    "plt.ylabel('Кумулятивное среднее количество заказов на посетителя')\n",
    "plt.legend()\n",
    "plt.show()"
   ]
  },
  {
   "cell_type": "markdown",
   "id": "aeae6f94",
   "metadata": {},
   "source": [
    "### Вывод: \n",
    "- конверсия в группе В стабильно выше конверсии в группе А;\n",
    "- оба графика неравномерные, требуется анализ аномалий."
   ]
  },
  {
   "cell_type": "markdown",
   "id": "df8ff044",
   "metadata": {},
   "source": [
    "## График относительного изменения кумулятивного среднего количества заказов на посетителя группы B к группе A"
   ]
  },
  {
   "cell_type": "code",
   "execution_count": 67,
   "id": "89dc162a",
   "metadata": {},
   "outputs": [
    {
     "data": {
      "image/png": "[encoded data removed]",
      "text/plain": [
       "<Figure size 1200x500 with 1 Axes>"
      ]
     },
     "metadata": {},
     "output_type": "display_data"
    }
   ],
   "source": [
    "plt.figure(figsize = (12, 5))\n",
    "plt.plot(merged_cumm_metric['date'], \n",
    "          merged_cumm_metric['conversionB']/\n",
    "           merged_cumm_metric['conversionA'] - 1\n",
    "         )\n",
    "plt.axhline(y=0, color='black', linestyle='--') \n",
    "plt.title('График относительного изменения кумулятивного среднего количества заказов на посетителя группы B к группе A')\n",
    "plt.xlabel('Дата')\n",
    "plt.ylabel('Изменение кумулятивного среднего количества заказов на посетителя группы B к группе A')\n",
    "\n",
    "plt.show()"
   ]
  },
  {
   "cell_type": "markdown",
   "id": "eaedd489",
   "metadata": {},
   "source": [
    "### Вывод: \n",
    "- на первой неделе теста группа В давала конверсию ниже группы А;\n",
    "- начиная со второй недели конверсия в группе В стабильно выше;\n",
    "- график нестабилен весь период: в начале третьей недели опять происходит небольшой спад показателя, потом начинается рост."
   ]
  },
  {
   "cell_type": "markdown",
   "id": "99c02123",
   "metadata": {},
   "source": [
    "## Статистический тест "
   ]
  },
  {
   "cell_type": "markdown",
   "id": "a2ecd18a",
   "metadata": {},
   "source": [
    "### Определение аномального  количества заказов "
   ]
  },
  {
   "cell_type": "code",
   "execution_count": 70,
   "id": "21a9c460",
   "metadata": {},
   "outputs": [
    {
     "data": {
      "text/html": [
       "<div>\n",
       "<style scoped>\n",
       "    .dataframe tbody tr th:only-of-type {\n",
       "        vertical-align: middle;\n",
       "    }\n",
       "\n",
       "    .dataframe tbody tr th {\n",
       "        vertical-align: top;\n",
       "    }\n",
       "\n",
       "    .dataframe thead th {\n",
       "        text-align: right;\n",
       "    }\n",
       "</style>\n",
       "<table border=\"1\" class=\"dataframe\">\n",
       "  <thead>\n",
       "    <tr style=\"text-align: right;\">\n",
       "      <th></th>\n",
       "      <th>visitor_id</th>\n",
       "      <th>orders_number</th>\n",
       "    </tr>\n",
       "  </thead>\n",
       "  <tbody>\n",
       "    <tr>\n",
       "      <th>908</th>\n",
       "      <td>3967698036</td>\n",
       "      <td>3</td>\n",
       "    </tr>\n",
       "    <tr>\n",
       "      <th>55</th>\n",
       "      <td>249864742</td>\n",
       "      <td>3</td>\n",
       "    </tr>\n",
       "    <tr>\n",
       "      <th>478</th>\n",
       "      <td>2108163459</td>\n",
       "      <td>3</td>\n",
       "    </tr>\n",
       "    <tr>\n",
       "      <th>687</th>\n",
       "      <td>2988190573</td>\n",
       "      <td>3</td>\n",
       "    </tr>\n",
       "    <tr>\n",
       "      <th>890</th>\n",
       "      <td>3908431265</td>\n",
       "      <td>3</td>\n",
       "    </tr>\n",
       "    <tr>\n",
       "      <th>...</th>\n",
       "      <td>...</td>\n",
       "      <td>...</td>\n",
       "    </tr>\n",
       "    <tr>\n",
       "      <th>331</th>\n",
       "      <td>1438226485</td>\n",
       "      <td>1</td>\n",
       "    </tr>\n",
       "    <tr>\n",
       "      <th>332</th>\n",
       "      <td>1452540367</td>\n",
       "      <td>1</td>\n",
       "    </tr>\n",
       "    <tr>\n",
       "      <th>333</th>\n",
       "      <td>1455323168</td>\n",
       "      <td>1</td>\n",
       "    </tr>\n",
       "    <tr>\n",
       "      <th>334</th>\n",
       "      <td>1455861274</td>\n",
       "      <td>1</td>\n",
       "    </tr>\n",
       "    <tr>\n",
       "      <th>972</th>\n",
       "      <td>4283872382</td>\n",
       "      <td>1</td>\n",
       "    </tr>\n",
       "  </tbody>\n",
       "</table>\n",
       "<p>973 rows × 2 columns</p>\n",
       "</div>"
      ],
      "text/plain": [
       "     visitor_id  orders_number\n",
       "908  3967698036              3\n",
       "55    249864742              3\n",
       "478  2108163459              3\n",
       "687  2988190573              3\n",
       "890  3908431265              3\n",
       "..          ...            ...\n",
       "331  1438226485              1\n",
       "332  1452540367              1\n",
       "333  1455323168              1\n",
       "334  1455861274              1\n",
       "972  4283872382              1\n",
       "\n",
       "[973 rows x 2 columns]"
      ]
     },
     "execution_count": 70,
     "metadata": {},
     "output_type": "execute_result"
    }
   ],
   "source": [
    "orders_clean_grouped = orders_clean.groupby('visitorId').agg({'transactionId':'count'}).reset_index()\n",
    "orders_clean_grouped.columns = ['visitor_id','orders_number']\n",
    "orders_clean_grouped.sort_values('orders_number', ascending = False)"
   ]
  },
  {
   "cell_type": "code",
   "execution_count": 71,
   "id": "b0e6baaa",
   "metadata": {},
   "outputs": [
    {
     "name": "stdout",
     "output_type": "stream",
     "text": [
      "[1. 2.]\n"
     ]
    }
   ],
   "source": [
    "print(np.percentile(orders_clean_grouped['orders_number'], [95, 99])) "
   ]
  },
  {
   "cell_type": "markdown",
   "id": "81733dda",
   "metadata": {},
   "source": [
    "#### Аномальные посетители - это те, кто оформил 2 и более заказов\n",
    "Больше 1 заказа делают 5% посетителей; более двух заказов делают менее 1% пользователей.\n",
    "Будем считать пользователей, которые сделали 2+ заказов аномальными. "
   ]
  },
  {
   "cell_type": "markdown",
   "id": "e5b2e87f",
   "metadata": {},
   "source": [
    "### Определение аномальной стоимости заказов "
   ]
  },
  {
   "cell_type": "code",
   "execution_count": 72,
   "id": "eae433a4",
   "metadata": {},
   "outputs": [
    {
     "name": "stdout",
     "output_type": "stream",
     "text": [
      "[26785. 53904.]\n"
     ]
    }
   ],
   "source": [
    "print(np.percentile(orders_clean['revenue'], (95,99)))"
   ]
  },
  {
   "cell_type": "markdown",
   "id": "00743efe",
   "metadata": {},
   "source": [
    "#### Аномальные заказы - дороже 26 тыс.\n",
    "Менее 5% заказов имеют стоимость выше 26,8 тыс. у.е., 1% или менее заказов - дороже 53,9 тыс. у.е.\n",
    "Будем считать заказы дороже 26 000 у.е. аномальными."
   ]
  },
  {
   "cell_type": "markdown",
   "id": "6f4bab8b",
   "metadata": {},
   "source": [
    "### Подготовка данных для теста"
   ]
  },
  {
   "cell_type": "code",
   "execution_count": 76,
   "id": "e71e2961",
   "metadata": {},
   "outputs": [],
   "source": [
    "#число посетителей на конкретную дату в каждой группе - ничего не пересчитываем, так как массив visitors мы не чистим"
   ]
  },
  {
   "cell_type": "code",
   "execution_count": 75,
   "id": "91f6489a",
   "metadata": {},
   "outputs": [],
   "source": [
    "#число посетителей на конкретную дату в каждой группе\n",
    "visitors_daily_a = visitors[visitors['group'] == 'A'][['date', 'visitors']]\n",
    "visitors_daily_a.columns = ['date', 'visitors_per_date_a']\n",
    "\n",
    "visitors_daily_b = visitors[visitors['group'] == 'B'][['date', 'visitors']]\n",
    "visitors_daily_b.columns = ['date', 'visitors_per_date_b']\n"
   ]
  },
  {
   "cell_type": "code",
   "execution_count": 76,
   "id": "7bb3cebb",
   "metadata": {},
   "outputs": [],
   "source": [
    "#число заказов на конкретную дату в каждой группе\n",
    "orders_daily_a2 = (\n",
    "    orders_clean[orders_clean['group'] == 'A'][['date', 'transactionId', 'visitorId', 'revenue']]\n",
    "    .groupby('date', as_index=False)\n",
    "    .agg({'transactionId': pd.Series.nunique, 'revenue': 'sum'})\n",
    ")\n",
    "orders_daily_a2.columns = ['date', 'orders_per_date_a', 'revenue_per_date_a']\n",
    "\n",
    "orders_daily_b2 = (\n",
    "    orders_clean[orders_clean['group'] == 'B'][['date', 'transactionId', 'visitorId', 'revenue']]\n",
    "    .groupby('date', as_index=False)\n",
    "    .agg({'transactionId': pd.Series.nunique, 'revenue': 'sum'})\n",
    ")\n",
    "orders_daily_b2.columns = ['date', 'orders_per_date_b', 'revenue_per_date_b']"
   ]
  },
  {
   "cell_type": "code",
   "execution_count": 78,
   "id": "021a1ce7",
   "metadata": {},
   "outputs": [
    {
     "data": {
      "text/html": [
       "<div>\n",
       "<style scoped>\n",
       "    .dataframe tbody tr th:only-of-type {\n",
       "        vertical-align: middle;\n",
       "    }\n",
       "\n",
       "    .dataframe tbody tr th {\n",
       "        vertical-align: top;\n",
       "    }\n",
       "\n",
       "    .dataframe thead th {\n",
       "        text-align: right;\n",
       "    }\n",
       "</style>\n",
       "<table border=\"1\" class=\"dataframe\">\n",
       "  <thead>\n",
       "    <tr style=\"text-align: right;\">\n",
       "      <th></th>\n",
       "      <th>date</th>\n",
       "      <th>orders_per_date_a</th>\n",
       "      <th>revenue_per_date_a</th>\n",
       "      <th>orders_per_date_b</th>\n",
       "      <th>revenue_per_date_b</th>\n",
       "      <th>visitors_per_date_a</th>\n",
       "      <th>visitors_per_date_b</th>\n",
       "    </tr>\n",
       "  </thead>\n",
       "  <tbody>\n",
       "    <tr>\n",
       "      <th>0</th>\n",
       "      <td>2019-08-01</td>\n",
       "      <td>23</td>\n",
       "      <td>142779</td>\n",
       "      <td>17</td>\n",
       "      <td>59758</td>\n",
       "      <td>719</td>\n",
       "      <td>713</td>\n",
       "    </tr>\n",
       "    <tr>\n",
       "      <th>1</th>\n",
       "      <td>2019-08-02</td>\n",
       "      <td>19</td>\n",
       "      <td>91602</td>\n",
       "      <td>23</td>\n",
       "      <td>162043</td>\n",
       "      <td>619</td>\n",
       "      <td>581</td>\n",
       "    </tr>\n",
       "    <tr>\n",
       "      <th>2</th>\n",
       "      <td>2019-08-03</td>\n",
       "      <td>24</td>\n",
       "      <td>112473</td>\n",
       "      <td>14</td>\n",
       "      <td>67049</td>\n",
       "      <td>507</td>\n",
       "      <td>509</td>\n",
       "    </tr>\n",
       "  </tbody>\n",
       "</table>\n",
       "</div>"
      ],
      "text/plain": [
       "        date  orders_per_date_a  revenue_per_date_a  orders_per_date_b  revenue_per_date_b  visitors_per_date_a  visitors_per_date_b\n",
       "0 2019-08-01                 23              142779                 17               59758                  719                  713\n",
       "1 2019-08-02                 19               91602                 23              162043                  619                  581\n",
       "2 2019-08-03                 24              112473                 14               67049                  507                  509"
      ]
     },
     "execution_count": 78,
     "metadata": {},
     "output_type": "execute_result"
    }
   ],
   "source": [
    "#формируем таблицу для статистических тестов до среза по аномальным значениям\n",
    "\n",
    "data_raw2 = (\n",
    "    orders_daily_a2.merge(\n",
    "        orders_daily_b2, left_on='date', right_on='date', how='left')\n",
    "    .merge(visitors_daily_a, left_on='date', right_on='date', how='left')\n",
    "    .merge(visitors_daily_b, left_on='date', right_on='date', how='left')\n",
    ")\n",
    "data_raw2.head(3)"
   ]
  },
  {
   "cell_type": "markdown",
   "id": "ad8f5046",
   "metadata": {},
   "source": [
    "### Проверка значимости различий в среднем количестве заказов и в среднем чеке заказа на посетителя  "
   ]
  },
  {
   "cell_type": "markdown",
   "id": "3332e4b7",
   "metadata": {},
   "source": [
    "- Создадим список посетителей магазина, заказы которых искажают данные: которые оформили <b>более 1 заказа</b> или сделали заказы <b>дороже 26,8 тыс. у.е.</b>\n",
    "- Таковых оказалось 98 посетителей"
   ]
  },
  {
   "cell_type": "code",
   "execution_count": 79,
   "id": "56dfe7b6",
   "metadata": {},
   "outputs": [],
   "source": [
    "#создаем подвыборку с количеством заказов на 1 посетителя в группе А и В\n",
    "orders_per_visitor_a2 = orders_clean[orders_clean['group']=='A'].groupby('visitorId', as_index= False).agg({'transactionId':'nunique'})\n",
    "orders_per_visitor_a2.columns = ['visitors', 'orders']\n",
    "\n",
    "orders_per_visitor_b2 = orders_clean[orders_clean['group']=='B'].groupby('visitorId', as_index= False).agg({'transactionId':'nunique'})\n",
    "orders_per_visitor_b2.columns = ['visitors', 'orders']"
   ]
  },
  {
   "cell_type": "code",
   "execution_count": 80,
   "id": "7aae2543",
   "metadata": {},
   "outputs": [],
   "source": [
    "orders_lim = np.percentile(orders_clean_grouped['orders_number'], (95))\n",
    "revenue_lim = np.percentile(orders_clean['revenue'], (95))"
   ]
  },
  {
   "cell_type": "code",
   "execution_count": 81,
   "id": "fc41d0a9",
   "metadata": {
    "scrolled": true
   },
   "outputs": [
    {
     "name": "stdout",
     "output_type": "stream",
     "text": [
      "568     113298937\n",
      "1099    148427295\n",
      "928     204675465\n",
      "33      249864742\n",
      "684     358944393\n",
      "dtype: int64\n",
      "98\n"
     ]
    }
   ],
   "source": [
    "visitors_many_orders2 = pd.concat(\n",
    "    [\n",
    "        orders_per_visitor_a2[orders_per_visitor_a2['orders'] > orders_lim]['visitors'],\n",
    "        orders_per_visitor_b2[orders_per_visitor_b2['orders'] > orders_lim]['visitors'],\n",
    "    ],\n",
    "    axis=0,\n",
    ")\n",
    "\n",
    "visitors_exp_orders2 = orders[orders['revenue'] > revenue_lim]['visitorId']\n",
    "\n",
    "abnormal_visitors2 = (\n",
    "    pd.concat([visitors_many_orders2, visitors_exp_orders2], axis=0)\n",
    "    .drop_duplicates()\n",
    "    .sort_values()\n",
    ")\n",
    "print(abnormal_visitors2.head(5))\n",
    "print(abnormal_visitors2.shape[0]) "
   ]
  },
  {
   "cell_type": "markdown",
   "id": "e0c7c5ae",
   "metadata": {},
   "source": [
    "#### ТЕСТ 2.1: сравнение количества заказов по группам А/В\n",
    "\n",
    "<p><b>Гипотезы:</b></p>\n",
    "<p>H0: Различий в среднем количестве заказов между группами нет.</p>\n",
    "H1: (Альтернативная) Различия в среднем количестве заказов между группами есть."
   ]
  },
  {
   "cell_type": "code",
   "execution_count": 82,
   "id": "3beda9f0",
   "metadata": {},
   "outputs": [],
   "source": [
    "# подготовим 2 выборки для проведения теста на очищенных данных\n",
    "\n",
    "sample_a_filtered2 = pd.concat(\n",
    "    [\n",
    "        orders_per_visitor_a2[\n",
    "            np.logical_not(orders_per_visitor_a2['visitors'].isin(abnormal_visitors2))\n",
    "        ]['orders'],\n",
    "        pd.Series(\n",
    "            0,\n",
    "            index=np.arange(\n",
    "                data_raw2['visitors_per_date_a'].sum() - len(orders_per_visitor_a2['orders'])\n",
    "            ),\n",
    "            name='orders',\n",
    "        ),\n",
    "    ],\n",
    "    axis=0,\n",
    ")\n",
    "\n",
    "sample_b_filtered2= pd.concat(\n",
    "    [\n",
    "        orders_per_visitor_b2[\n",
    "            np.logical_not(orders_per_visitor_b2['visitors'].isin(abnormal_visitors2))\n",
    "        ]['orders'],\n",
    "        pd.Series(\n",
    "            0,\n",
    "            index=np.arange(\n",
    "                data_raw2['visitors_per_date_b'].sum() - len(orders_per_visitor_b2['orders'])\n",
    "            ),\n",
    "            name='orders',\n",
    "        ),\n",
    "    ],\n",
    "    axis=0,\n",
    ")\n"
   ]
  },
  {
   "cell_type": "code",
   "execution_count": 104,
   "id": "05e9d746",
   "metadata": {},
   "outputs": [
    {
     "name": "stdout",
     "output_type": "stream",
     "text": [
      "p-value: 0.016\n",
      "Относительный выигрыш: 17.393%\n"
     ]
    }
   ],
   "source": [
    "print('p-value:','{0:.3f}'.format(stats.mannwhitneyu(sample_a_filtered2, sample_b_filtered2)[1]))\n",
    "print('Относительный выигрыш:','{0:.3f}%'.format((sample_b_filtered2.mean()/sample_a_filtered2.mean()-1)*100))"
   ]
  },
  {
   "cell_type": "markdown",
   "id": "cf08316d",
   "metadata": {},
   "source": [
    "##### Вывод:\n",
    "- p-value = 0,016 < 0,05, значит отвергаем нулевую гипотезу; разница в количестве заказов в группах А и В статистически значима (p-value еще ниже, чем на данных до удаления пересекающихся пользователей);\n",
    "- относительный выигрыш группы В - 17,4%, что еще выше, чем на данных до удаления пересекающихся посетителей;\n",
    "- делаем вывод, что количество заказов в группе В больше.\n"
   ]
  },
  {
   "cell_type": "markdown",
   "id": "ec874d61",
   "metadata": {},
   "source": [
    "#### ТЕСТ 2.2: средний чек в группах А/В\n",
    "<p><b>Гипотезы </b></p>\n",
    "<p>H0: Различий в среднем чеке заказа на посетителя  между группами нет.</p>\n",
    "H1: (Альтернативная) различия в среднем чеке заказа на посетителя между группами есть."
   ]
  },
  {
   "cell_type": "code",
   "execution_count": 103,
   "id": "9f38b79a",
   "metadata": {},
   "outputs": [
    {
     "name": "stdout",
     "output_type": "stream",
     "text": [
      "p-value: 0.727\n",
      "Относительный выигрыш: -3.373%\n"
     ]
    }
   ],
   "source": [
    "print('p-value:',\n",
    "    '{0:.3f}'.format(\n",
    "        stats.mannwhitneyu(\n",
    "            orders_clean[\n",
    "                np.logical_and(\n",
    "                    orders_clean['group'] == 'A',\n",
    "                    np.logical_not(orders_clean['visitorId'].isin(abnormal_visitors2)),\n",
    "                )\n",
    "            ]['revenue'],\n",
    "            orders_clean[\n",
    "                np.logical_and(\n",
    "                    orders_clean['group'] == 'B',\n",
    "                    np.logical_not(orders_clean['visitorId'].isin(abnormal_visitors2)),\n",
    "                )\n",
    "            ]['revenue'],\n",
    "        )[1]\n",
    "    )\n",
    ")\n",
    "\n",
    "print('Относительный выигрыш:',\n",
    "    \"{0:.3f}%\".format(\n",
    "        (\n",
    "        orders_clean[\n",
    "            np.logical_and(\n",
    "                orders_clean['group'] == 'B',\n",
    "                np.logical_not(orders_clean['visitorId'].isin(abnormal_visitors2)),\n",
    "            )\n",
    "        ]['revenue'].mean()\n",
    "        / orders_clean[\n",
    "            np.logical_and(\n",
    "                orders_clean['group'] == 'A',\n",
    "                np.logical_not(orders_clean['visitorId'].isin(abnormal_visitors2)),\n",
    "            )\n",
    "        ]['revenue'].mean()\n",
    "        - 1\n",
    "    )\n",
    "        *100)\n",
    ") \n"
   ]
  },
  {
   "cell_type": "markdown",
   "id": "bc37bfbf",
   "metadata": {},
   "source": [
    "##### Вывод:\n",
    "-  группа В проигрывает по средней сумме заказа. наблюдаемый проигрыш -  около 3%;\n",
    "\n",
    "- p-value = 0,72 > 0,05, значит не отвергаем нулевую гипотезу:  <b>разница в среденем чеке между группами А и В статистически не значима</b>;\n",
    "- делаем вывод, что посетители магазина из группы В в среднем платили столько же за заказ, что и посетители группы А."
   ]
  },
  {
   "cell_type": "markdown",
   "id": "37264e12",
   "metadata": {},
   "source": [
    "## Общий вывод:\n",
    "\n",
    "1. Анализ результатов А/В теста позволяет сделать вывод, что:\n",
    "- в группе В количество заказов выше, чем в группе А на 17,4%; эта разница статистически значима;\n",
    "- посетители группы В в среднем оставляют столько же денег за заказ, сколько и посетители группы А (нет значимой разницы в среднем чеке между группами)\n",
    "<p></p>\n",
    "\n",
    "2. Предлагается остановить тест с результатом, что нововведение (которое тестировалось в рамках теста) привело к увеличению конверсии (количества заказов на посетителя).\n",
    "<p></p>\n",
    "\n",
    "3. Для повышения среднего чека заказа рекомендуется тестировать другую гипотезу. "
   ]
  }
 ],
 "metadata": {
  "ExecuteTimeLog": [
   {
    "duration": 1110,
    "start_time": "2024-02-28T10:46:14.777Z"
   },
   {
    "duration": 245,
    "start_time": "2024-02-28T10:46:15.889Z"
   },
   {
    "duration": 0,
    "start_time": "2024-02-28T10:46:16.137Z"
   },
   {
    "duration": 0,
    "start_time": "2024-02-28T10:46:16.138Z"
   },
   {
    "duration": 0,
    "start_time": "2024-02-28T10:46:16.139Z"
   },
   {
    "duration": 0,
    "start_time": "2024-02-28T10:46:16.140Z"
   },
   {
    "duration": 0,
    "start_time": "2024-02-28T10:46:16.141Z"
   },
   {
    "duration": 0,
    "start_time": "2024-02-28T10:46:16.142Z"
   },
   {
    "duration": 0,
    "start_time": "2024-02-28T10:46:16.143Z"
   },
   {
    "duration": 0,
    "start_time": "2024-02-28T10:46:16.144Z"
   },
   {
    "duration": 0,
    "start_time": "2024-02-28T10:46:16.145Z"
   },
   {
    "duration": 0,
    "start_time": "2024-02-28T10:46:16.146Z"
   },
   {
    "duration": 0,
    "start_time": "2024-02-28T10:46:16.147Z"
   },
   {
    "duration": 0,
    "start_time": "2024-02-28T10:46:16.149Z"
   },
   {
    "duration": 0,
    "start_time": "2024-02-28T10:46:16.150Z"
   },
   {
    "duration": 0,
    "start_time": "2024-02-28T10:46:16.151Z"
   },
   {
    "duration": 0,
    "start_time": "2024-02-28T10:46:16.152Z"
   },
   {
    "duration": 0,
    "start_time": "2024-02-28T10:46:16.153Z"
   },
   {
    "duration": 0,
    "start_time": "2024-02-28T10:46:16.155Z"
   },
   {
    "duration": 0,
    "start_time": "2024-02-28T10:46:16.156Z"
   },
   {
    "duration": 0,
    "start_time": "2024-02-28T10:46:16.157Z"
   },
   {
    "duration": 0,
    "start_time": "2024-02-28T10:46:16.158Z"
   },
   {
    "duration": 0,
    "start_time": "2024-02-28T10:46:16.159Z"
   },
   {
    "duration": 0,
    "start_time": "2024-02-28T10:46:16.192Z"
   },
   {
    "duration": 0,
    "start_time": "2024-02-28T10:46:16.193Z"
   },
   {
    "duration": 0,
    "start_time": "2024-02-28T10:46:16.194Z"
   },
   {
    "duration": 0,
    "start_time": "2024-02-28T10:46:16.195Z"
   },
   {
    "duration": 0,
    "start_time": "2024-02-28T10:46:16.196Z"
   },
   {
    "duration": 0,
    "start_time": "2024-02-28T10:46:16.197Z"
   },
   {
    "duration": 0,
    "start_time": "2024-02-28T10:46:16.198Z"
   },
   {
    "duration": 0,
    "start_time": "2024-02-28T10:46:16.199Z"
   },
   {
    "duration": 0,
    "start_time": "2024-02-28T10:46:16.200Z"
   },
   {
    "duration": 0,
    "start_time": "2024-02-28T10:46:16.202Z"
   },
   {
    "duration": 0,
    "start_time": "2024-02-28T10:46:16.203Z"
   },
   {
    "duration": 0,
    "start_time": "2024-02-28T10:46:16.204Z"
   },
   {
    "duration": 0,
    "start_time": "2024-02-28T10:46:16.205Z"
   },
   {
    "duration": 0,
    "start_time": "2024-02-28T10:46:16.206Z"
   },
   {
    "duration": 0,
    "start_time": "2024-02-28T10:46:16.206Z"
   },
   {
    "duration": 0,
    "start_time": "2024-02-28T10:46:16.208Z"
   },
   {
    "duration": 0,
    "start_time": "2024-02-28T10:46:16.209Z"
   },
   {
    "duration": 0,
    "start_time": "2024-02-28T10:46:16.210Z"
   },
   {
    "duration": 0,
    "start_time": "2024-02-28T10:46:16.211Z"
   },
   {
    "duration": 0,
    "start_time": "2024-02-28T10:46:16.212Z"
   },
   {
    "duration": 0,
    "start_time": "2024-02-28T10:46:16.213Z"
   },
   {
    "duration": 0,
    "start_time": "2024-02-28T10:46:16.214Z"
   },
   {
    "duration": 0,
    "start_time": "2024-02-28T10:46:16.215Z"
   },
   {
    "duration": 0,
    "start_time": "2024-02-28T10:46:16.216Z"
   },
   {
    "duration": 0,
    "start_time": "2024-02-28T10:46:16.217Z"
   },
   {
    "duration": 0,
    "start_time": "2024-02-28T10:46:16.218Z"
   },
   {
    "duration": 0,
    "start_time": "2024-02-28T10:46:16.219Z"
   },
   {
    "duration": 0,
    "start_time": "2024-02-28T10:46:16.220Z"
   },
   {
    "duration": 0,
    "start_time": "2024-02-28T10:46:16.221Z"
   },
   {
    "duration": 0,
    "start_time": "2024-02-28T10:46:16.222Z"
   },
   {
    "duration": 0,
    "start_time": "2024-02-28T10:46:16.224Z"
   },
   {
    "duration": 0,
    "start_time": "2024-02-28T10:46:16.225Z"
   },
   {
    "duration": 1298,
    "start_time": "2024-02-29T06:14:46.990Z"
   },
   {
    "duration": 249,
    "start_time": "2024-02-29T06:14:48.290Z"
   },
   {
    "duration": 13,
    "start_time": "2024-02-29T06:14:48.541Z"
   },
   {
    "duration": 12,
    "start_time": "2024-02-29T06:14:48.557Z"
   },
   {
    "duration": 14,
    "start_time": "2024-02-29T06:14:48.571Z"
   },
   {
    "duration": 14,
    "start_time": "2024-02-29T06:14:48.586Z"
   },
   {
    "duration": 17,
    "start_time": "2024-02-29T06:14:48.602Z"
   },
   {
    "duration": 10,
    "start_time": "2024-02-29T06:14:48.622Z"
   },
   {
    "duration": 7,
    "start_time": "2024-02-29T06:14:48.634Z"
   },
   {
    "duration": 11,
    "start_time": "2024-02-29T06:14:48.643Z"
   },
   {
    "duration": 30,
    "start_time": "2024-02-29T06:14:48.655Z"
   },
   {
    "duration": 15,
    "start_time": "2024-02-29T06:14:48.687Z"
   },
   {
    "duration": 12,
    "start_time": "2024-02-29T06:14:48.703Z"
   },
   {
    "duration": 24,
    "start_time": "2024-02-29T06:14:48.716Z"
   },
   {
    "duration": 25,
    "start_time": "2024-02-29T06:14:48.742Z"
   },
   {
    "duration": 23,
    "start_time": "2024-02-29T06:14:48.769Z"
   },
   {
    "duration": 22,
    "start_time": "2024-02-29T06:14:48.794Z"
   },
   {
    "duration": 5,
    "start_time": "2024-02-29T06:14:48.818Z"
   },
   {
    "duration": 189,
    "start_time": "2024-02-29T06:14:48.825Z"
   },
   {
    "duration": 11,
    "start_time": "2024-02-29T06:14:49.015Z"
   },
   {
    "duration": 130,
    "start_time": "2024-02-29T06:14:49.027Z"
   },
   {
    "duration": 8,
    "start_time": "2024-02-29T06:14:49.159Z"
   },
   {
    "duration": 8,
    "start_time": "2024-02-29T06:14:49.168Z"
   },
   {
    "duration": 6,
    "start_time": "2024-02-29T06:14:49.178Z"
   },
   {
    "duration": 29,
    "start_time": "2024-02-29T06:14:49.186Z"
   },
   {
    "duration": 7,
    "start_time": "2024-02-29T06:14:49.222Z"
   },
   {
    "duration": 13,
    "start_time": "2024-02-29T06:14:49.231Z"
   },
   {
    "duration": 316,
    "start_time": "2024-02-29T06:14:49.248Z"
   },
   {
    "duration": 207,
    "start_time": "2024-02-29T06:14:49.566Z"
   },
   {
    "duration": 7,
    "start_time": "2024-02-29T06:14:49.774Z"
   },
   {
    "duration": 22,
    "start_time": "2024-02-29T06:14:49.783Z"
   },
   {
    "duration": 365,
    "start_time": "2024-02-29T06:14:49.807Z"
   },
   {
    "duration": 226,
    "start_time": "2024-02-29T06:14:50.174Z"
   },
   {
    "duration": 327,
    "start_time": "2024-02-29T06:14:50.401Z"
   },
   {
    "duration": 7,
    "start_time": "2024-02-29T06:14:50.729Z"
   },
   {
    "duration": 41,
    "start_time": "2024-02-29T06:14:50.737Z"
   },
   {
    "duration": 144,
    "start_time": "2024-02-29T06:14:50.780Z"
   },
   {
    "duration": 12,
    "start_time": "2024-02-29T06:14:50.926Z"
   },
   {
    "duration": 7,
    "start_time": "2024-02-29T06:14:50.939Z"
   },
   {
    "duration": 154,
    "start_time": "2024-02-29T06:14:50.948Z"
   },
   {
    "duration": 22,
    "start_time": "2024-02-29T06:14:51.104Z"
   },
   {
    "duration": 40,
    "start_time": "2024-02-29T06:14:51.128Z"
   },
   {
    "duration": 18,
    "start_time": "2024-02-29T06:14:51.170Z"
   },
   {
    "duration": 23,
    "start_time": "2024-02-29T06:14:51.190Z"
   },
   {
    "duration": 47,
    "start_time": "2024-02-29T06:14:51.215Z"
   },
   {
    "duration": 27,
    "start_time": "2024-02-29T06:14:51.264Z"
   },
   {
    "duration": 57,
    "start_time": "2024-02-29T06:14:51.292Z"
   },
   {
    "duration": 20,
    "start_time": "2024-02-29T06:14:51.351Z"
   },
   {
    "duration": 48,
    "start_time": "2024-02-29T06:14:51.373Z"
   },
   {
    "duration": 34,
    "start_time": "2024-02-29T06:14:51.423Z"
   },
   {
    "duration": 39,
    "start_time": "2024-02-29T06:14:51.459Z"
   },
   {
    "duration": 31,
    "start_time": "2024-02-29T06:14:51.499Z"
   },
   {
    "duration": 36,
    "start_time": "2024-02-29T06:14:51.532Z"
   },
   {
    "duration": 54,
    "start_time": "2024-02-29T06:14:51.569Z"
   },
   {
    "duration": 13,
    "start_time": "2024-02-29T06:14:51.625Z"
   },
   {
    "duration": 1388,
    "start_time": "2024-03-02T06:29:48.843Z"
   },
   {
    "duration": 264,
    "start_time": "2024-03-02T06:29:50.233Z"
   },
   {
    "duration": 13,
    "start_time": "2024-03-02T06:29:50.498Z"
   },
   {
    "duration": 12,
    "start_time": "2024-03-02T06:29:50.512Z"
   },
   {
    "duration": 14,
    "start_time": "2024-03-02T06:29:50.526Z"
   },
   {
    "duration": 18,
    "start_time": "2024-03-02T06:29:50.541Z"
   },
   {
    "duration": 17,
    "start_time": "2024-03-02T06:29:50.560Z"
   },
   {
    "duration": 24,
    "start_time": "2024-03-02T06:29:50.578Z"
   },
   {
    "duration": 30,
    "start_time": "2024-03-02T06:29:50.603Z"
   },
   {
    "duration": 16,
    "start_time": "2024-03-02T06:29:50.635Z"
   },
   {
    "duration": 13,
    "start_time": "2024-03-02T06:29:50.652Z"
   },
   {
    "duration": 30,
    "start_time": "2024-03-02T06:29:50.666Z"
   },
   {
    "duration": 20,
    "start_time": "2024-03-02T06:29:50.698Z"
   },
   {
    "duration": 21,
    "start_time": "2024-03-02T06:29:50.721Z"
   },
   {
    "duration": 16,
    "start_time": "2024-03-02T06:29:50.744Z"
   },
   {
    "duration": 6,
    "start_time": "2024-03-02T06:29:50.762Z"
   },
   {
    "duration": 9,
    "start_time": "2024-03-02T06:29:50.770Z"
   },
   {
    "duration": 23,
    "start_time": "2024-03-02T06:29:50.781Z"
   },
   {
    "duration": 12,
    "start_time": "2024-03-02T06:29:50.806Z"
   },
   {
    "duration": 43,
    "start_time": "2024-03-02T06:29:50.819Z"
   },
   {
    "duration": 18,
    "start_time": "2024-03-02T06:29:50.864Z"
   },
   {
    "duration": 23,
    "start_time": "2024-03-02T06:29:50.884Z"
   },
   {
    "duration": 5,
    "start_time": "2024-03-02T06:29:50.909Z"
   },
   {
    "duration": 37,
    "start_time": "2024-03-02T06:29:50.916Z"
   },
   {
    "duration": 9,
    "start_time": "2024-03-02T06:29:50.955Z"
   },
   {
    "duration": 13,
    "start_time": "2024-03-02T06:29:50.965Z"
   },
   {
    "duration": 9,
    "start_time": "2024-03-02T06:29:50.979Z"
   },
   {
    "duration": 6,
    "start_time": "2024-03-02T06:29:50.990Z"
   },
   {
    "duration": 15,
    "start_time": "2024-03-02T06:29:50.997Z"
   },
   {
    "duration": 19,
    "start_time": "2024-03-02T06:29:51.014Z"
   },
   {
    "duration": 29,
    "start_time": "2024-03-02T06:29:51.034Z"
   },
   {
    "duration": 17,
    "start_time": "2024-03-02T06:29:51.064Z"
   },
   {
    "duration": 13,
    "start_time": "2024-03-02T06:29:51.083Z"
   },
   {
    "duration": 49,
    "start_time": "2024-03-02T06:29:51.098Z"
   },
   {
    "duration": 18,
    "start_time": "2024-03-02T06:29:51.148Z"
   },
   {
    "duration": 185,
    "start_time": "2024-03-02T06:29:51.168Z"
   },
   {
    "duration": 8,
    "start_time": "2024-03-02T06:29:51.354Z"
   },
   {
    "duration": 131,
    "start_time": "2024-03-02T06:29:51.364Z"
   },
   {
    "duration": 7,
    "start_time": "2024-03-02T06:29:51.497Z"
   },
   {
    "duration": 26,
    "start_time": "2024-03-02T06:29:51.506Z"
   },
   {
    "duration": 24,
    "start_time": "2024-03-02T06:29:51.537Z"
   },
   {
    "duration": 12,
    "start_time": "2024-03-02T06:29:51.563Z"
   },
   {
    "duration": 21,
    "start_time": "2024-03-02T06:29:51.577Z"
   },
   {
    "duration": 15,
    "start_time": "2024-03-02T06:29:51.599Z"
   },
   {
    "duration": 346,
    "start_time": "2024-03-02T06:29:51.616Z"
   },
   {
    "duration": 235,
    "start_time": "2024-03-02T06:29:51.963Z"
   },
   {
    "duration": 6,
    "start_time": "2024-03-02T06:29:52.200Z"
   },
   {
    "duration": 27,
    "start_time": "2024-03-02T06:29:52.208Z"
   },
   {
    "duration": 416,
    "start_time": "2024-03-02T06:29:52.237Z"
   },
   {
    "duration": 264,
    "start_time": "2024-03-02T06:29:52.654Z"
   },
   {
    "duration": 322,
    "start_time": "2024-03-02T06:29:52.920Z"
   },
   {
    "duration": 8,
    "start_time": "2024-03-02T06:29:53.252Z"
   },
   {
    "duration": 12,
    "start_time": "2024-03-02T06:29:53.262Z"
   },
   {
    "duration": 160,
    "start_time": "2024-03-02T06:29:53.276Z"
   },
   {
    "duration": 12,
    "start_time": "2024-03-02T06:29:53.438Z"
   },
   {
    "duration": 41,
    "start_time": "2024-03-02T06:29:53.452Z"
   },
   {
    "duration": 161,
    "start_time": "2024-03-02T06:29:53.495Z"
   },
   {
    "duration": 8,
    "start_time": "2024-03-02T06:29:53.658Z"
   },
   {
    "duration": 15,
    "start_time": "2024-03-02T06:29:53.667Z"
   },
   {
    "duration": 9,
    "start_time": "2024-03-02T06:29:53.683Z"
   },
   {
    "duration": 13,
    "start_time": "2024-03-02T06:29:53.693Z"
   },
   {
    "duration": 30,
    "start_time": "2024-03-02T06:29:53.708Z"
   },
   {
    "duration": 23,
    "start_time": "2024-03-02T06:29:53.740Z"
   },
   {
    "duration": 10,
    "start_time": "2024-03-02T06:29:53.764Z"
   },
   {
    "duration": 14,
    "start_time": "2024-03-02T06:29:53.775Z"
   },
   {
    "duration": 7,
    "start_time": "2024-03-02T06:29:53.790Z"
   },
   {
    "duration": 33,
    "start_time": "2024-03-02T06:29:53.799Z"
   },
   {
    "duration": 11,
    "start_time": "2024-03-02T06:29:53.834Z"
   },
   {
    "duration": 31,
    "start_time": "2024-03-02T06:29:53.847Z"
   },
   {
    "duration": 16,
    "start_time": "2024-03-02T06:29:53.880Z"
   },
   {
    "duration": 33,
    "start_time": "2024-03-02T06:29:53.897Z"
   },
   {
    "duration": 15,
    "start_time": "2024-03-02T06:29:53.932Z"
   },
   {
    "duration": 26,
    "start_time": "2024-03-02T06:29:53.948Z"
   },
   {
    "duration": 39,
    "start_time": "2024-03-02T06:29:53.975Z"
   },
   {
    "duration": 22,
    "start_time": "2024-03-02T06:29:54.016Z"
   },
   {
    "duration": 15,
    "start_time": "2024-03-02T06:29:54.040Z"
   },
   {
    "duration": 78,
    "start_time": "2024-03-02T06:29:54.057Z"
   },
   {
    "duration": 23,
    "start_time": "2024-03-02T06:29:54.137Z"
   },
   {
    "duration": 35,
    "start_time": "2024-03-02T06:29:54.162Z"
   },
   {
    "duration": 8,
    "start_time": "2024-03-02T06:29:54.199Z"
   },
   {
    "duration": 17,
    "start_time": "2024-03-02T06:29:54.209Z"
   },
   {
    "duration": 11,
    "start_time": "2024-03-02T06:29:54.228Z"
   },
   {
    "duration": 27,
    "start_time": "2024-03-02T06:29:54.241Z"
   },
   {
    "duration": 13,
    "start_time": "2024-03-02T06:29:54.270Z"
   },
   {
    "duration": 1746,
    "start_time": "2024-03-02T06:30:08.027Z"
   },
   {
    "duration": 176,
    "start_time": "2024-03-02T06:30:09.776Z"
   },
   {
    "duration": 13,
    "start_time": "2024-03-02T06:30:09.953Z"
   },
   {
    "duration": 10,
    "start_time": "2024-03-02T06:30:09.968Z"
   },
   {
    "duration": 8,
    "start_time": "2024-03-02T06:30:09.980Z"
   },
   {
    "duration": 10,
    "start_time": "2024-03-02T06:30:09.989Z"
   },
   {
    "duration": 36,
    "start_time": "2024-03-02T06:30:10.001Z"
   },
   {
    "duration": 32,
    "start_time": "2024-03-02T06:30:10.038Z"
   },
   {
    "duration": 10,
    "start_time": "2024-03-02T06:30:10.071Z"
   },
   {
    "duration": 7,
    "start_time": "2024-03-02T06:30:10.083Z"
   },
   {
    "duration": 12,
    "start_time": "2024-03-02T06:30:10.092Z"
   },
   {
    "duration": 21,
    "start_time": "2024-03-02T06:30:10.106Z"
   },
   {
    "duration": 15,
    "start_time": "2024-03-02T06:30:10.128Z"
   },
   {
    "duration": 12,
    "start_time": "2024-03-02T06:30:10.146Z"
   },
   {
    "duration": 4,
    "start_time": "2024-03-02T06:30:10.160Z"
   },
   {
    "duration": 5,
    "start_time": "2024-03-02T06:30:10.165Z"
   },
   {
    "duration": 7,
    "start_time": "2024-03-02T06:30:10.172Z"
   },
   {
    "duration": 8,
    "start_time": "2024-03-02T06:30:10.180Z"
   },
   {
    "duration": 34,
    "start_time": "2024-03-02T06:30:10.189Z"
   },
   {
    "duration": 6,
    "start_time": "2024-03-02T06:30:10.225Z"
   },
   {
    "duration": 18,
    "start_time": "2024-03-02T06:30:10.232Z"
   },
   {
    "duration": 26,
    "start_time": "2024-03-02T06:30:10.251Z"
   },
   {
    "duration": 3,
    "start_time": "2024-03-02T06:30:10.278Z"
   },
   {
    "duration": 13,
    "start_time": "2024-03-02T06:30:10.282Z"
   },
   {
    "duration": 9,
    "start_time": "2024-03-02T06:30:10.297Z"
   },
   {
    "duration": 8,
    "start_time": "2024-03-02T06:30:10.307Z"
   },
   {
    "duration": 6,
    "start_time": "2024-03-02T06:30:10.316Z"
   },
   {
    "duration": 5,
    "start_time": "2024-03-02T06:30:10.324Z"
   },
   {
    "duration": 4,
    "start_time": "2024-03-02T06:30:10.331Z"
   },
   {
    "duration": 41,
    "start_time": "2024-03-02T06:30:10.336Z"
   },
   {
    "duration": 7,
    "start_time": "2024-03-02T06:30:10.379Z"
   },
   {
    "duration": 10,
    "start_time": "2024-03-02T06:30:10.387Z"
   },
   {
    "duration": 12,
    "start_time": "2024-03-02T06:30:10.398Z"
   },
   {
    "duration": 11,
    "start_time": "2024-03-02T06:30:10.412Z"
   },
   {
    "duration": 12,
    "start_time": "2024-03-02T06:30:10.424Z"
   },
   {
    "duration": 205,
    "start_time": "2024-03-02T06:30:10.438Z"
   },
   {
    "duration": 8,
    "start_time": "2024-03-02T06:30:10.644Z"
   },
   {
    "duration": 126,
    "start_time": "2024-03-02T06:30:10.653Z"
   },
   {
    "duration": 7,
    "start_time": "2024-03-02T06:30:10.781Z"
   },
   {
    "duration": 15,
    "start_time": "2024-03-02T06:30:10.789Z"
   },
   {
    "duration": 21,
    "start_time": "2024-03-02T06:30:10.808Z"
   },
   {
    "duration": 13,
    "start_time": "2024-03-02T06:30:10.831Z"
   },
   {
    "duration": 15,
    "start_time": "2024-03-02T06:30:10.845Z"
   },
   {
    "duration": 39,
    "start_time": "2024-03-02T06:30:10.861Z"
   },
   {
    "duration": 306,
    "start_time": "2024-03-02T06:30:10.901Z"
   },
   {
    "duration": 215,
    "start_time": "2024-03-02T06:30:11.209Z"
   },
   {
    "duration": 6,
    "start_time": "2024-03-02T06:30:11.426Z"
   },
   {
    "duration": 21,
    "start_time": "2024-03-02T06:30:11.433Z"
   },
   {
    "duration": 357,
    "start_time": "2024-03-02T06:30:11.455Z"
   },
   {
    "duration": 259,
    "start_time": "2024-03-02T06:30:11.814Z"
   },
   {
    "duration": 344,
    "start_time": "2024-03-02T06:30:12.075Z"
   },
   {
    "duration": 7,
    "start_time": "2024-03-02T06:30:12.420Z"
   },
   {
    "duration": 18,
    "start_time": "2024-03-02T06:30:12.428Z"
   },
   {
    "duration": 156,
    "start_time": "2024-03-02T06:30:12.447Z"
   },
   {
    "duration": 9,
    "start_time": "2024-03-02T06:30:12.605Z"
   },
   {
    "duration": 3,
    "start_time": "2024-03-02T06:30:12.616Z"
   },
   {
    "duration": 166,
    "start_time": "2024-03-02T06:30:12.621Z"
   },
   {
    "duration": 8,
    "start_time": "2024-03-02T06:30:12.789Z"
   },
   {
    "duration": 17,
    "start_time": "2024-03-02T06:30:12.798Z"
   },
   {
    "duration": 7,
    "start_time": "2024-03-02T06:30:12.817Z"
   },
   {
    "duration": 20,
    "start_time": "2024-03-02T06:30:12.825Z"
   },
   {
    "duration": 34,
    "start_time": "2024-03-02T06:30:12.847Z"
   },
   {
    "duration": 62,
    "start_time": "2024-03-02T06:30:12.882Z"
   },
   {
    "duration": 8,
    "start_time": "2024-03-02T06:30:12.946Z"
   },
   {
    "duration": 12,
    "start_time": "2024-03-02T06:30:12.955Z"
   },
   {
    "duration": 8,
    "start_time": "2024-03-02T06:30:12.969Z"
   },
   {
    "duration": 60,
    "start_time": "2024-03-02T06:30:12.979Z"
   },
   {
    "duration": 15,
    "start_time": "2024-03-02T06:30:13.040Z"
   },
   {
    "duration": 19,
    "start_time": "2024-03-02T06:30:13.057Z"
   },
   {
    "duration": 13,
    "start_time": "2024-03-02T06:30:13.078Z"
   },
   {
    "duration": 34,
    "start_time": "2024-03-02T06:30:13.092Z"
   },
   {
    "duration": 14,
    "start_time": "2024-03-02T06:30:13.127Z"
   },
   {
    "duration": 12,
    "start_time": "2024-03-02T06:30:13.142Z"
   },
   {
    "duration": 9,
    "start_time": "2024-03-02T06:30:13.156Z"
   },
   {
    "duration": 6,
    "start_time": "2024-03-02T06:30:13.172Z"
   },
   {
    "duration": 18,
    "start_time": "2024-03-02T06:30:13.180Z"
   },
   {
    "duration": 31,
    "start_time": "2024-03-02T06:30:13.199Z"
   },
   {
    "duration": 18,
    "start_time": "2024-03-02T06:30:13.231Z"
   },
   {
    "duration": 22,
    "start_time": "2024-03-02T06:30:13.251Z"
   },
   {
    "duration": 33,
    "start_time": "2024-03-02T06:30:13.275Z"
   },
   {
    "duration": 13,
    "start_time": "2024-03-02T06:30:13.309Z"
   },
   {
    "duration": 13,
    "start_time": "2024-03-02T06:30:13.324Z"
   },
   {
    "duration": 29,
    "start_time": "2024-03-02T06:30:13.339Z"
   },
   {
    "duration": 14,
    "start_time": "2024-03-02T06:30:13.370Z"
   }
  ],
  "kernelspec": {
   "display_name": "Python 3 (ipykernel)",
   "language": "python",
   "name": "python3"
  },
  "language_info": {
   "codemirror_mode": {
    "name": "ipython",
    "version": 3
   },
   "file_extension": ".py",
   "mimetype": "text/x-python",
   "name": "python",
   "nbconvert_exporter": "python",
   "pygments_lexer": "ipython3",
   "version": "3.11.5"
  },
  "toc": {
   "base_numbering": 1,
   "nav_menu": {
    "height": "168px",
    "width": "322px"
   },
   "number_sections": true,
   "sideBar": true,
   "skip_h1_title": false,
   "title_cell": "Table of Contents",
   "title_sidebar": "Contents",
   "toc_cell": false,
   "toc_position": {
    "height": "calc(100% - 180px)",
    "left": "10px",
    "top": "150px",
    "width": "222px"
   },
   "toc_section_display": true,
   "toc_window_display": true
  }
 },
 "nbformat": 4,
 "nbformat_minor": 5
}
